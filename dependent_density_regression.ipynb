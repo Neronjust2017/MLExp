{
 "cells": [
  {
   "cell_type": "markdown",
   "metadata": {},
   "source": [
    "# Dependent Density estimation\n",
    "Requires Python 3.5"
   ]
  },
  {
   "cell_type": "code",
   "execution_count": 14,
   "metadata": {
    "collapsed": true
   },
   "outputs": [],
   "source": [
    "%matplotlib inline\n",
    "from IPython.display import HTML\n",
    "from matplotlib import animation as ani, pyplot as plt\n",
    "import numpy as np\n",
    "import pandas as pd\n",
    "import scipy as sp\n",
    "import pymc3 as pm\n",
    "from theano import shared, tensor as tt\n",
    "import seaborn as sns\n",
    "\n"
   ]
  },
  {
   "cell_type": "code",
   "execution_count": 15,
   "metadata": {
    "collapsed": true
   },
   "outputs": [],
   "source": [
    "#ffmpeg for Win2k\n",
    "#plt.rc('animation', writer='ffmpeg')\n",
    "\n",
    "#avconv or imagemagick for Mac\n",
    "plt.rc('animation', writer='imagemagick')\n",
    "\n",
    "blue, *_ = sns.color_palette()\n",
    "SEED = 972915 #from random.org\n",
    "np.random.seed(SEED)\n"
   ]
  },
  {
   "cell_type": "markdown",
   "metadata": {},
   "source": [
    "## Load dataset\n",
    "LIDAR dataset from Larry Wasserman's book: All of non-parameteric statistics\n"
   ]
  },
  {
   "cell_type": "code",
   "execution_count": 16,
   "metadata": {},
   "outputs": [
    {
     "name": "stderr",
     "output_type": "stream",
     "text": [
      "/Users/vmullachery/anaconda/envs/dl3.6/lib/python3.6/site-packages/pandas/io/parsers.py:2138: FutureWarning: split() requires a non-empty pattern match.\n",
      "  yield pat.split(line.strip())\n",
      "/Users/vmullachery/anaconda/envs/dl3.6/lib/python3.6/site-packages/pandas/io/parsers.py:2140: FutureWarning: split() requires a non-empty pattern match.\n",
      "  yield pat.split(line.strip())\n"
     ]
    },
    {
     "data": {
      "text/html": [
       "<div>\n",
       "<style>\n",
       "    .dataframe thead tr:only-child th {\n",
       "        text-align: right;\n",
       "    }\n",
       "\n",
       "    .dataframe thead th {\n",
       "        text-align: left;\n",
       "    }\n",
       "\n",
       "    .dataframe tbody tr th {\n",
       "        vertical-align: top;\n",
       "    }\n",
       "</style>\n",
       "<table border=\"1\" class=\"dataframe\">\n",
       "  <thead>\n",
       "    <tr style=\"text-align: right;\">\n",
       "      <th></th>\n",
       "      <th>range</th>\n",
       "      <th>logratio</th>\n",
       "      <th>std_logratio</th>\n",
       "      <th>std_range</th>\n",
       "    </tr>\n",
       "  </thead>\n",
       "  <tbody>\n",
       "    <tr>\n",
       "      <th>0</th>\n",
       "      <td>390</td>\n",
       "      <td>-0.050356</td>\n",
       "      <td>0.852467</td>\n",
       "      <td>-1.717725</td>\n",
       "    </tr>\n",
       "    <tr>\n",
       "      <th>1</th>\n",
       "      <td>391</td>\n",
       "      <td>-0.060097</td>\n",
       "      <td>0.817981</td>\n",
       "      <td>-1.707299</td>\n",
       "    </tr>\n",
       "    <tr>\n",
       "      <th>2</th>\n",
       "      <td>393</td>\n",
       "      <td>-0.041901</td>\n",
       "      <td>0.882398</td>\n",
       "      <td>-1.686447</td>\n",
       "    </tr>\n",
       "    <tr>\n",
       "      <th>3</th>\n",
       "      <td>394</td>\n",
       "      <td>-0.050985</td>\n",
       "      <td>0.850240</td>\n",
       "      <td>-1.676020</td>\n",
       "    </tr>\n",
       "    <tr>\n",
       "      <th>4</th>\n",
       "      <td>396</td>\n",
       "      <td>-0.059913</td>\n",
       "      <td>0.818631</td>\n",
       "      <td>-1.655168</td>\n",
       "    </tr>\n",
       "  </tbody>\n",
       "</table>\n",
       "</div>"
      ],
      "text/plain": [
       "   range  logratio  std_logratio  std_range\n",
       "0    390 -0.050356      0.852467  -1.717725\n",
       "1    391 -0.060097      0.817981  -1.707299\n",
       "2    393 -0.041901      0.882398  -1.686447\n",
       "3    394 -0.050985      0.850240  -1.676020\n",
       "4    396 -0.059913      0.818631  -1.655168"
      ]
     },
     "execution_count": 16,
     "metadata": {},
     "output_type": "execute_result"
    }
   ],
   "source": [
    "DATA_URI = 'http://www.stat.cmu.edu/~larry/all-of-nonpar/=data/lidar.dat'\n",
    "def standardize(x):\n",
    "    return (x - x.mean())/x.std()\n",
    "df = (pd.read_csv(DATA_URI, sep=' *', engine='python')\n",
    "     .assign(std_range=lambda df: standardize(df.range),\n",
    "            std_logratio=lambda df: standardize(df.logratio)))\n",
    "df.head()"
   ]
  },
  {
   "cell_type": "markdown",
   "metadata": {},
   "source": [
    "### Plot the data\n",
    "Builds intuition"
   ]
  },
  {
   "cell_type": "code",
   "execution_count": 17,
   "metadata": {},
   "outputs": [
    {
     "data": {
      "text/plain": [
       "<matplotlib.text.Text at 0x11b861588>"
      ]
     },
     "execution_count": 17,
     "metadata": {},
     "output_type": "execute_result"
    },
    {
     "data": {
      "image/png": "[encoded data removed]",
      "text/plain": [
       "<matplotlib.figure.Figure at 0x11b6c2b00>"
      ]
     },
     "metadata": {},
     "output_type": "display_data"
    }
   ],
   "source": [
    "fig, ax = plt.subplots(figsize=(8,6))\n",
    "ax.scatter(df.std_range, df.std_logratio, c=blue)\n",
    "ax.set_xlabel('Standardized range')\n",
    "ax.set_ylabel('Standardized log ratio')"
   ]
  },
  {
   "cell_type": "markdown",
   "metadata": {},
   "source": [
    "- The relationship between range and logratio is non-linear, but has local linear components\n",
    "- The observation noise is heterskedastic, that is magnitude of the variance varies with range\n",
    "\n",
    "The idea is to reduce the problem to many related density estimates conditioned on fixed values of predictors. Check the right hand plot of the animation"
   ]
  },
  {
   "cell_type": "code",
   "execution_count": 18,
   "metadata": {
    "collapsed": true
   },
   "outputs": [],
   "source": [
    "fig, (scatter, hist) = plt.subplots(ncols=2, figsize=(12,6))\n",
    "scatter.scatter(df.std_range, df.std_logratio, c=blue, zorder=2)\n",
    "scatter.set_xlabel('Standardize range')\n",
    "scatter.set_ylabel('Standardize log ratio')\n",
    "bins = np.linspace(df.std_range.min(), df.std_range.max(), 25)\n",
    "hist.hist(df.std_logratio, bins=bins, color='green', alpha=.25, label='All data')\n",
    "hist.set_xlabel('Standardized log ratio')\n",
    "hist.set_ylabel('Frequency')\n",
    "hist.legend(loc=2)\n",
    "\n",
    "endpoints = np.linspace(1.05*df.std_range.min(), 1.05*df.std_range.max(), 15)\n",
    "frame_artists = []\n",
    "for l, h in zip(endpoints[:-1], endpoints[2:]):\n",
    "    interval = scatter.axvspan(l, h, color='cyan', alpha=.3, zorder=1)\n",
    "    *_, bars = hist.hist(df[df.std_range.between(l, h)].std_logratio, \n",
    "                         bins=bins,\n",
    "                        color='gray',\n",
    "                        alpha=.4)\n",
    "    frame_artists.append((interval,) + tuple(bars))\n",
    "    \n",
    "animation = ani.ArtistAnimation(fig, frame_artists, interval=500, \n",
    "                                repeat_delay=3000, \n",
    "                               blit=True)\n",
    "plt.close()\n"
   ]
  },
  {
   "cell_type": "markdown",
   "metadata": {},
   "source": [
    "## Animation\n",
    "For the following to work on my Windows:\n",
    "- I installed ffmpeg: https://www.wikihow.com/Install-FFmpeg-on-Windows\n",
    "- Then stopped and restarted the conda environment and jupyter notebook\n",
    "- Make sure the python code plt.rc() uses 'ffmpeg' instead of 'avconv'"
   ]
  },
  {
   "cell_type": "code",
   "execution_count": 21,
   "metadata": {},
   "outputs": [
    {
     "data": {
      "text/html": [
       "<video width=\"864\" height=\"432\" controls autoplay loop>\n",
       "  <source type=\"video/mp4\" src=\"data:video/mp4;base64,\">\n",
       "  Your browser does not support the video tag.\n",
       "</video>"
      ],
      "text/plain": [
       "<IPython.core.display.HTML object>"
      ]
     },
     "execution_count": 21,
     "metadata": {},
     "output_type": "execute_result"
    }
   ],
   "source": [
    "#Animation does not appear to work on Mac - neither chrome nor firefox\n",
    "#skip this cell if you are having issues\n",
    "HTML(animation.to_html5_video())"
   ]
  },
  {
   "cell_type": "code",
   "execution_count": 22,
   "metadata": {},
   "outputs": [
    {
     "name": "stdout",
     "output_type": "stream",
     "text": [
      "['imagemagick', 'imagemagick_file']\n"
     ]
    }
   ],
   "source": [
    "print(ani.writers.list())\n"
   ]
  },
  {
   "cell_type": "code",
   "execution_count": 23,
   "metadata": {},
   "outputs": [
    {
     "name": "stdout",
     "output_type": "stream",
     "text": [
      "['imagemagick', 'imagemagick_file'] 2.0.2\n"
     ]
    }
   ],
   "source": [
    "import matplotlib\n",
    "print(matplotlib.animation.writers.list(), matplotlib.__version__)"
   ]
  },
  {
   "cell_type": "markdown",
   "metadata": {},
   "source": [
    "### The Model"
   ]
  },
  {
   "cell_type": "code",
   "execution_count": 24,
   "metadata": {},
   "outputs": [
    {
     "data": {
      "text/latex": [
       "\\begin{align}\n",
       "\\alpha_1...\\alpha_K \\sim \\mathcal{N}(0,5^2) \\\\\n",
       "\\beta_1...\\beta_K \\sim \\mathcal{N}(0, 5^2) \\\\\n",
       "v_i \\Big| x \\sim \\mathcal{N} CDF ( \\alpha_i + \\beta_i * x ) \\\\\n",
       "w_i \\Big| x = v_i \\Big|x \\prod_{j=1}^{i-1}(1-v_j\\Big|x) \\\\\n",
       "\\gamma_1...\\gamma_K \\sim \\mathcal{N}(0, 10^2) \\\\\n",
       "\\delta_1...\\delta_K \\sim \\mathcal{N}(0, 10^2) \\\\\n",
       "\\mu_i = (\\gamma_i + \\delta_i * x) \\\\\n",
       "\\tau_1...\\tau_K \\sim \\Gamma(1,1) \\\\\n",
       "obs \\sim NormalMixture(w, \\mu, \\tau)\\\\\n",
       "\\end{align}"
      ],
      "text/plain": [
       "<IPython.core.display.Latex object>"
      ]
     },
     "metadata": {},
     "output_type": "display_data"
    }
   ],
   "source": [
    "%%latex\n",
    "\\begin{align}\n",
    "\\alpha_1...\\alpha_K \\sim \\mathcal{N}(0,5^2) \\\\\n",
    "\\beta_1...\\beta_K \\sim \\mathcal{N}(0, 5^2) \\\\\n",
    "v_i \\Big| x \\sim \\mathcal{N} CDF ( \\alpha_i + \\beta_i * x ) \\\\\n",
    "w_i \\Big| x = v_i \\Big|x \\prod_{j=1}^{i-1}(1-v_j\\Big|x) \\\\\n",
    "\\gamma_1...\\gamma_K \\sim \\mathcal{N}(0, 10^2) \\\\\n",
    "\\delta_1...\\delta_K \\sim \\mathcal{N}(0, 10^2) \\\\\n",
    "\\mu_i = (\\gamma_i + \\delta_i * x) \\\\\n",
    "\\tau_1...\\tau_K \\sim \\Gamma(1,1) \\\\\n",
    "obs \\sim NormalMixture(w, \\mu, \\tau)\\\\\n",
    "\\end{align}\n"
   ]
  },
  {
   "cell_type": "code",
   "execution_count": 25,
   "metadata": {
    "collapsed": true
   },
   "outputs": [],
   "source": [
    "#Normal CDF\n",
    "def norm_cdf(z):\n",
    "    return 0.5 * (1 + tt.erf(z/np.sqrt(2)))\n",
    "\n",
    "def stick_breaking(v):\n",
    "    return v * tt.concatenate([tt.ones_like(v[:, :1]), tt.extra_ops.cumprod(1 - v, axis=1)[:,:-1] ],\n",
    "                             axis=1)"
   ]
  },
  {
   "cell_type": "code",
   "execution_count": 30,
   "metadata": {
    "collapsed": true
   },
   "outputs": [],
   "source": [
    "N=df.shape[0]\n",
    "K=20\n",
    "std_range = df.std_range.values[:, np.newaxis]\n",
    "std_logratio = df.std_logratio.values[:, np.newaxis]\n",
    "x_lidar = shared(std_range, broadcastable=(False, True))\n",
    "with pm.Model() as model:\n",
    "    alpha = pm.Normal('alpha', 0., 5., shape=K)\n",
    "    beta = pm.Normal('beta', 0., 5., shape=K)\n",
    "    v = norm_cdf(alpha + beta * x_lidar)\n",
    "    w = pm.Deterministic('w', stick_breaking(v))\n",
    "\n",
    "    gamma = pm.Normal('gamma', 0., 10., shape=K)\n",
    "    delta = pm.Normal('delta', 0., 10., shape=K)\n",
    "    mu = pm.Deterministic('mu', gamma + delta * x_lidar)\n",
    "    tau = pm.Gamma('tau', 1., 1., shape=K)\n",
    "    \n",
    "    obs = pm.NormalMixture('obs', w, mu, tau=tau, observed=std_logratio)\n"
   ]
  },
  {
   "cell_type": "code",
   "execution_count": 39,
   "metadata": {},
   "outputs": [
    {
     "data": {
      "text/plain": [
       "(Shape.0, (221, 1), (221, 1), 20)"
      ]
     },
     "execution_count": 39,
     "metadata": {},
     "output_type": "execute_result"
    }
   ],
   "source": [
    "x_lidar.shape, std_range.shape, std_logratio.shape, K,"
   ]
  },
  {
   "cell_type": "code",
   "execution_count": 32,
   "metadata": {
    "scrolled": true
   },
   "outputs": [
    {
     "name": "stderr",
     "output_type": "stream",
     "text": [
      "100%|██████████| 2000/2000 [00:08<00:00, 243.57it/s]\n"
     ]
    }
   ],
   "source": [
    "with model:\n",
    "    trace = pm.sample(2000, pm.Metropolis(), tune=1000, random_seed=SEED)"
   ]
  },
  {
   "cell_type": "code",
   "execution_count": 25,
   "metadata": {},
   "outputs": [
    {
     "data": {
      "text/plain": [
       "Text(0,0.5,'Mixture weight')"
      ]
     },
     "execution_count": 25,
     "metadata": {},
     "output_type": "execute_result"
    },
    {
     "data": {
      "image/png": "[encoded data removed]",
      "text/plain": [
       "<matplotlib.figure.Figure at 0x1ea017c2908>"
      ]
     },
     "metadata": {},
     "output_type": "display_data"
    }
   ],
   "source": [
    "fig, ax = plt.subplots(figsize=(8,6))\n",
    "ax.bar(np.arange(K) + 1, trace['w'].mean(axis=0).max(axis=0))\n",
    "ax.set_xlabel('Component')\n",
    "ax.set_ylabel('Mixture weight')"
   ]
  },
  {
   "cell_type": "markdown",
   "metadata": {},
   "source": [
    "### Only 4 major components\n",
    "This is reasonable if we look at the distribution of the samples, as we can see three to four separate linear components"
   ]
  },
  {
   "cell_type": "code",
   "execution_count": 26,
   "metadata": {},
   "outputs": [
    {
     "name": "stderr",
     "output_type": "stream",
     "text": [
      "100%|██████████████████████████████████████████████████████████████████████████████| 5000/5000 [01:24<00:00, 59.40it/s]\n"
     ]
    },
    {
     "data": {
      "image/png": "[encoded data removed]",
      "text/plain": [
       "<matplotlib.figure.Figure at 0x1ea012577f0>"
      ]
     },
     "metadata": {},
     "output_type": "display_data"
    }
   ],
   "source": [
    "lidar_ppx_x = np.linspace(std_range.min()-0.05, std_range.max()+0.05, 100)\n",
    "x_lidar.set_value(lidar_ppx_x[:, np.newaxis])\n",
    "with model:\n",
    "    ppc = pm.sample_ppc(trace, 5000, random_seed=SEED)\n",
    "    \n",
    "    fig, ax = plt.subplots(figsize=(8,6))\n",
    "    ax.scatter(std_range, std_logratio, c=blue, zorder=10, alpha=0.6)\n",
    "    lo, hi = np.percentile(ppc['obs'], [2.5, 97.5], axis=0)\n",
    "    ax.fill_between(lidar_ppx_x, lo, hi, color='gray', zorder=5, alpha=0.3)\n",
    "    ax.plot(lidar_ppx_x, ppc['obs'].mean(axis=0), color='orange')"
   ]
  },
  {
   "cell_type": "markdown",
   "metadata": {},
   "source": [
    "### Trials and tribulations\n",
    "Do a conda install pydot, graphviz\n",
    "Then, Add the path to dot.exe under graphviz (under Anaconda) to your system PATH variable\n",
    "Then the following SVG call might work"
   ]
  },
  {
   "cell_type": "code",
   "execution_count": 9,
   "metadata": {},
   "outputs": [
    {
     "name": "stdout",
     "output_type": "stream",
     "text": [
      "<TensorType(float64, scalar)>\n",
      "<TensorType(float64, scalar)> [id A]\n",
      "Elemwise{add,no_inplace} [id A] ''   \n",
      " |Elemwise{mul,no_inplace} [id B] ''   \n",
      " | |TensorConstant{3} [id C]\n",
      " | |Elemwise{pow,no_inplace} [id D] ''   \n",
      " |   |<TensorType(float64, scalar)> [id E]\n",
      " |   |TensorConstant{2} [id F]\n",
      " |TensorConstant{1} [id G]\n"
     ]
    },
    {
     "data": {
      "image/svg+xml": [
       "<svg height=\"378pt\" viewBox=\"0.00 0.00 677.00 378.00\" width=\"677pt\" xmlns=\"http://www.w3.org/2000/svg\" xmlns:xlink=\"http://www.w3.org/1999/xlink\">\n",
       "<g class=\"graph\" id=\"graph0\" transform=\"scale(1 1) rotate(0) translate(4 374)\">\n",
       "<title>G</title>\n",
       "<polygon fill=\"white\" points=\"-4,4 -4,-374 673,-374 673,4 -4,4\" stroke=\"none\"/>\n",
       "<!-- 2649837570032 -->\n",
       "<g class=\"node\" id=\"node1\"><title>2649837570032</title>\n",
       "<ellipse cx=\"475.5\" cy=\"-265\" fill=\"#ffaabb\" rx=\"111.581\" ry=\"18\" stroke=\"black\"/>\n",
       "<text font-family=\"Times New Roman,serif\" font-size=\"14.00\" text-anchor=\"middle\" x=\"475.5\" y=\"-261.3\">Elemwise{pow,no_inplace}</text>\n",
       "</g>\n",
       "<!-- 2649837569976 -->\n",
       "<g class=\"node\" id=\"node4\"><title>2649837569976</title>\n",
       "<ellipse cx=\"315.5\" cy=\"-178\" fill=\"#ffaabb\" rx=\"108.581\" ry=\"18\" stroke=\"black\"/>\n",
       "<text font-family=\"Times New Roman,serif\" font-size=\"14.00\" text-anchor=\"middle\" x=\"315.5\" y=\"-174.3\">Elemwise{mul,no_inplace}</text>\n",
       "</g>\n",
       "<!-- 2649837570032&#45;&gt;2649837569976 -->\n",
       "<g class=\"edge\" id=\"edge4\"><title>2649837570032-&gt;2649837569976</title>\n",
       "<path d=\"M444.65,-247.611C419.196,-234.088 382.901,-214.807 355.267,-200.126\" fill=\"none\" stroke=\"black\"/>\n",
       "<polygon fill=\"black\" points=\"356.728,-196.939 346.255,-195.339 353.444,-203.121 356.728,-196.939\" stroke=\"black\"/>\n",
       "<text font-family=\"Times New Roman,serif\" font-size=\"14.00\" text-anchor=\"middle\" x=\"488\" y=\"-217.8\">1 TensorType(float64, scalar)</text>\n",
       "</g>\n",
       "<!-- 2649835921080 -->\n",
       "<g class=\"node\" id=\"node2\"><title>2649835921080</title>\n",
       "<polygon fill=\"green\" points=\"462,-370 289,-370 289,-334 462,-334 462,-370\" stroke=\"black\"/>\n",
       "<text font-family=\"Times New Roman,serif\" font-size=\"14.00\" text-anchor=\"middle\" x=\"375.5\" y=\"-348.3\">TensorType(float64, scalar)</text>\n",
       "</g>\n",
       "<!-- 2649835921080&#45;&gt;2649837570032 -->\n",
       "<g class=\"edge\" id=\"edge1\"><title>2649835921080-&gt;2649837570032</title>\n",
       "<path d=\"M395.736,-333.799C410.744,-321.042 431.377,-303.504 447.898,-289.462\" fill=\"none\" stroke=\"black\"/>\n",
       "<polygon fill=\"black\" points=\"450.282,-292.029 455.635,-282.885 445.749,-286.695 450.282,-292.029\" stroke=\"black\"/>\n",
       "<text font-family=\"Times New Roman,serif\" font-size=\"14.00\" text-anchor=\"middle\" x=\"434\" y=\"-304.8\">0</text>\n",
       "</g>\n",
       "<!-- 2649835918280 -->\n",
       "<g class=\"node\" id=\"node3\"><title>2649835918280</title>\n",
       "<polygon fill=\"green\" points=\"669,-370 480,-370 480,-334 669,-334 669,-370\" stroke=\"black\"/>\n",
       "<text font-family=\"Times New Roman,serif\" font-size=\"14.00\" text-anchor=\"middle\" x=\"574.5\" y=\"-348.3\">val=2 TensorType(int8, scalar)</text>\n",
       "</g>\n",
       "<!-- 2649835918280&#45;&gt;2649837570032 -->\n",
       "<g class=\"edge\" id=\"edge2\"><title>2649835918280-&gt;2649837570032</title>\n",
       "<path d=\"M554.466,-333.799C539.608,-321.042 519.182,-303.504 502.826,-289.462\" fill=\"none\" stroke=\"black\"/>\n",
       "<polygon fill=\"black\" points=\"505.034,-286.744 495.166,-282.885 500.474,-292.055 505.034,-286.744\" stroke=\"black\"/>\n",
       "<text font-family=\"Times New Roman,serif\" font-size=\"14.00\" text-anchor=\"middle\" x=\"534\" y=\"-304.8\">1</text>\n",
       "</g>\n",
       "<!-- 2649837602072 -->\n",
       "<g class=\"node\" id=\"node6\"><title>2649837602072</title>\n",
       "<ellipse cx=\"156.5\" cy=\"-91\" fill=\"#ffaabb\" rx=\"109.381\" ry=\"18\" stroke=\"black\"/>\n",
       "<text font-family=\"Times New Roman,serif\" font-size=\"14.00\" text-anchor=\"middle\" x=\"156.5\" y=\"-87.3\">Elemwise{add,no_inplace}</text>\n",
       "</g>\n",
       "<!-- 2649837569976&#45;&gt;2649837602072 -->\n",
       "<g class=\"edge\" id=\"edge5\"><title>2649837569976-&gt;2649837602072</title>\n",
       "<path d=\"M284.843,-160.611C259.547,-147.088 223.48,-127.807 196.018,-113.126\" fill=\"none\" stroke=\"black\"/>\n",
       "<polygon fill=\"black\" points=\"197.532,-109.966 187.063,-108.339 194.232,-116.14 197.532,-109.966\" stroke=\"black\"/>\n",
       "<text font-family=\"Times New Roman,serif\" font-size=\"14.00\" text-anchor=\"middle\" x=\"329\" y=\"-130.8\">0 TensorType(float64, scalar)</text>\n",
       "</g>\n",
       "<!-- 2649837545568 -->\n",
       "<g class=\"node\" id=\"node5\"><title>2649837545568</title>\n",
       "<polygon fill=\"green\" points=\"346,-283 157,-283 157,-247 346,-247 346,-283\" stroke=\"black\"/>\n",
       "<text font-family=\"Times New Roman,serif\" font-size=\"14.00\" text-anchor=\"middle\" x=\"251.5\" y=\"-261.3\">val=3 TensorType(int8, scalar)</text>\n",
       "</g>\n",
       "<!-- 2649837545568&#45;&gt;2649837569976 -->\n",
       "<g class=\"edge\" id=\"edge3\"><title>2649837545568-&gt;2649837569976</title>\n",
       "<path d=\"M264.451,-246.799C273.707,-234.506 286.306,-217.774 296.671,-204.007\" fill=\"none\" stroke=\"black\"/>\n",
       "<polygon fill=\"black\" points=\"299.567,-205.979 302.786,-195.885 293.975,-201.769 299.567,-205.979\" stroke=\"black\"/>\n",
       "<text font-family=\"Times New Roman,serif\" font-size=\"14.00\" text-anchor=\"middle\" x=\"290\" y=\"-217.8\">0</text>\n",
       "</g>\n",
       "<!-- 2649837601512 -->\n",
       "<g class=\"node\" id=\"node8\"><title>2649837601512</title>\n",
       "<polygon fill=\"blue\" points=\"243,-36 70,-36 70,-0 243,-0 243,-36\" stroke=\"black\"/>\n",
       "<text font-family=\"Times New Roman,serif\" font-size=\"14.00\" text-anchor=\"middle\" x=\"156.5\" y=\"-14.3\">TensorType(float64, scalar)</text>\n",
       "</g>\n",
       "<!-- 2649837602072&#45;&gt;2649837601512 -->\n",
       "<g class=\"edge\" id=\"edge7\"><title>2649837602072-&gt;2649837601512</title>\n",
       "<path d=\"M156.5,-72.8129C156.5,-64.7895 156.5,-55.0475 156.5,-46.0691\" fill=\"none\" stroke=\"black\"/>\n",
       "<polygon fill=\"black\" points=\"160,-46.0288 156.5,-36.0288 153,-46.0289 160,-46.0288\" stroke=\"black\"/>\n",
       "</g>\n",
       "<!-- 2649837544896 -->\n",
       "<g class=\"node\" id=\"node7\"><title>2649837544896</title>\n",
       "<polygon fill=\"green\" points=\"189,-196 0,-196 0,-160 189,-160 189,-196\" stroke=\"black\"/>\n",
       "<text font-family=\"Times New Roman,serif\" font-size=\"14.00\" text-anchor=\"middle\" x=\"94.5\" y=\"-174.3\">val=1 TensorType(int8, scalar)</text>\n",
       "</g>\n",
       "<!-- 2649837544896&#45;&gt;2649837602072 -->\n",
       "<g class=\"edge\" id=\"edge6\"><title>2649837544896-&gt;2649837602072</title>\n",
       "<path d=\"M107.047,-159.799C116.013,-147.506 128.218,-130.774 138.259,-117.007\" fill=\"none\" stroke=\"black\"/>\n",
       "<polygon fill=\"black\" points=\"141.118,-119.027 144.184,-108.885 135.463,-114.902 141.118,-119.027\" stroke=\"black\"/>\n",
       "<text font-family=\"Times New Roman,serif\" font-size=\"14.00\" text-anchor=\"middle\" x=\"133\" y=\"-130.8\">1</text>\n",
       "</g>\n",
       "</g>\n",
       "</svg>"
      ],
      "text/plain": [
       "<IPython.core.display.SVG object>"
      ]
     },
     "execution_count": 9,
     "metadata": {},
     "output_type": "execute_result"
    }
   ],
   "source": [
    "import pydot, theano\n",
    "ax = theano.tensor.scalar()\n",
    "print(ax)\n",
    "theano.pprint(ax)\n",
    "theano.printing.debugprint(ax)\n",
    "from IPython.display import SVG\n",
    "SVG(theano.printing.pydotprint(ax, return_image=True, format='svg'))\n",
    "\n",
    "ay = 3*(ax**2) + 1\n",
    "ay.eval({ax : 1})\n",
    "theano.pprint(ay)\n",
    "theano.printing.debugprint(ay)\n",
    "SVG(theano.printing.pydotprint(ay, return_image=True, format='svg'))\n"
   ]
  },
  {
   "cell_type": "markdown",
   "metadata": {},
   "source": [
    "# Miscellaneous\n",
    "## A Zero Truncated Poisson\n",
    "__Custom Probability Distribution in PyMC3__"
   ]
  },
  {
   "cell_type": "code",
   "execution_count": null,
   "metadata": {
    "collapsed": true
   },
   "outputs": [],
   "source": [
    "import theano.tensor as tt\n",
    "from theano import function\n",
    "from theano import printing\n",
    "import pymc3 as pm\n",
    "\n",
    "class ZeroTruncatedPoisson(pm.Discrete):\n",
    "    '''\n",
    "    Similar to a Poisson distribution, but the support is over positive integes \n",
    "    and so, excludes zero. An example, number of items in your grocery shopping cart\n",
    "    at checkout\n",
    "    '''\n",
    "    def __init__(self, mu, *args, **kwargs):\n",
    "        super(ZeroTruncatedPoisson, self).__init__(*args, **kwargs)\n",
    "        self.mu = tt.as_tensor_variable(mu)\n",
    "    \n",
    "    def logp(self, value):\n",
    "        '''\n",
    "        compute total_log_probability\n",
    "        '''\n",
    "        return tt.sum(value * tt.log(self.mu) - tt.log(tt.exp(self.mu) -1) - tt.gammaln(value))\n",
    "    \n",
    "    def random(self, point=None, size=None):\n",
    "        '''\n",
    "        Generates a random sample from Zero Truncated Poisson\n",
    "        '''\n",
    "        k = 1\n",
    "        mu = self.mu.tag.test_value\n",
    "        t = tt.exp(-self.mu)/(1 - tt.exp(-self.mu))/(1. * self.mu)\n",
    "        tn = t.tag.test_value\n",
    "        s = tn\n",
    "        u = np.random.uniform()\n",
    "        while s < u:\n",
    "            k = k + 1\n",
    "            tn = tn * mu / k\n",
    "            s = s + tn\n",
    "            u = np.random.uniform()\n",
    "        return k"
   ]
  },
  {
   "cell_type": "code",
   "execution_count": null,
   "metadata": {
    "collapsed": true
   },
   "outputs": [],
   "source": [
    "# If using a ZeroTruncatedPoisson\n",
    "# obs = df_train['x1']\n",
    "# with pm.Model() as zmodel:\n",
    "#     mu = pm.HalfNormal('mu', sd=10.)\n",
    "#     zp_poisson = ZeroTruncatedPoisson('zp', mu=mu, observed=obs)\n",
    "#     ztrace = pm.sample(1000)\n",
    "#     pm.plot_posterior(ztrace)\n"
   ]
  }
 ],
 "metadata": {
  "kernelspec": {
   "display_name": "Python 3",
   "language": "python",
   "name": "python3"
  },
  "language_info": {
   "codemirror_mode": {
    "name": "ipython",
    "version": 3
   },
   "file_extension": ".py",
   "mimetype": "text/x-python",
   "name": "python",
   "nbconvert_exporter": "python",
   "pygments_lexer": "ipython3",
   "version": "3.6.0"
  }
 },
 "nbformat": 4,
 "nbformat_minor": 1
}

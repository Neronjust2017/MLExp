{
 "cells": [
  {
   "cell_type": "markdown",
   "metadata": {},
   "source": [
    "# Density estimation\n",
    "Use dataset"
   ]
  },
  {
   "cell_type": "code",
   "execution_count": 49,
   "metadata": {
    "collapsed": true
   },
   "outputs": [],
   "source": [
    "%matplotlib inline\n",
    "import theano\n",
    "import pymc3 as pm\n",
    "import sklearn\n",
    "import numpy as np\n",
    "import matplotlib.pyplot as plt\n",
    "import seaborn as sns\n",
    "from warnings import filterwarnings\n",
    "filterwarnings('ignore')\n",
    "sns.set_style('white')\n",
    "from sklearn import datasets\n",
    "from sklearn.preprocessing import scale\n",
    "from sklearn.model_selection import train_test_split\n",
    "import theano.tensor as tt\n",
    "from theano import shared\n",
    "import pandas as pd\n",
    "import scipy as sp"
   ]
  },
  {
   "cell_type": "markdown",
   "metadata": {},
   "source": [
    "## Load dataset\n",
    "Peek into the data - curiosity helps build intuition\n",
    "Intuition yields a prior (required for probabilistic modeling).\n"
   ]
  },
  {
   "cell_type": "code",
   "execution_count": 50,
   "metadata": {},
   "outputs": [
    {
     "data": {
      "text/html": [
       "<div>\n",
       "<style>\n",
       "    .dataframe thead tr:only-child th {\n",
       "        text-align: right;\n",
       "    }\n",
       "\n",
       "    .dataframe thead th {\n",
       "        text-align: left;\n",
       "    }\n",
       "\n",
       "    .dataframe tbody tr th {\n",
       "        vertical-align: top;\n",
       "    }\n",
       "</style>\n",
       "<table border=\"1\" class=\"dataframe\">\n",
       "  <thead>\n",
       "    <tr style=\"text-align: right;\">\n",
       "      <th></th>\n",
       "      <th>x1</th>\n",
       "      <th>x2</th>\n",
       "      <th>x3</th>\n",
       "      <th>x4</th>\n",
       "      <th>x5</th>\n",
       "      <th>x6</th>\n",
       "    </tr>\n",
       "  </thead>\n",
       "  <tbody>\n",
       "    <tr>\n",
       "      <th>0</th>\n",
       "      <td>16</td>\n",
       "      <td>30</td>\n",
       "      <td>41</td>\n",
       "      <td>48</td>\n",
       "      <td>53</td>\n",
       "      <td>16</td>\n",
       "    </tr>\n",
       "    <tr>\n",
       "      <th>1</th>\n",
       "      <td>1</td>\n",
       "      <td>26</td>\n",
       "      <td>41</td>\n",
       "      <td>50</td>\n",
       "      <td>57</td>\n",
       "      <td>11</td>\n",
       "    </tr>\n",
       "    <tr>\n",
       "      <th>2</th>\n",
       "      <td>23</td>\n",
       "      <td>33</td>\n",
       "      <td>42</td>\n",
       "      <td>46</td>\n",
       "      <td>59</td>\n",
       "      <td>4</td>\n",
       "    </tr>\n",
       "    <tr>\n",
       "      <th>3</th>\n",
       "      <td>2</td>\n",
       "      <td>18</td>\n",
       "      <td>19</td>\n",
       "      <td>22</td>\n",
       "      <td>63</td>\n",
       "      <td>19</td>\n",
       "    </tr>\n",
       "    <tr>\n",
       "      <th>4</th>\n",
       "      <td>10</td>\n",
       "      <td>16</td>\n",
       "      <td>40</td>\n",
       "      <td>52</td>\n",
       "      <td>55</td>\n",
       "      <td>17</td>\n",
       "    </tr>\n",
       "  </tbody>\n",
       "</table>\n",
       "</div>"
      ],
      "text/plain": [
       "   x1  x2  x3  x4  x5  x6\n",
       "0  16  30  41  48  53  16\n",
       "1   1  26  41  50  57  11\n",
       "2  23  33  42  46  59   4\n",
       "3   2  18  19  22  63  19\n",
       "4  10  16  40  52  55  17"
      ]
     },
     "execution_count": 50,
     "metadata": {},
     "output_type": "execute_result"
    }
   ],
   "source": [
    "df = pd.read_csv('./pb/pb_asc_x1x5_x6.csv', header=None, names=['x1', 'x2', 'x3', 'x4', 'x5', 'x6'])\n",
    "df.head()"
   ]
  },
  {
   "cell_type": "code",
   "execution_count": 51,
   "metadata": {},
   "outputs": [
    {
     "data": {
      "text/plain": [
       "<matplotlib.axes._subplots.AxesSubplot at 0x11b3fb2e8>"
      ]
     },
     "execution_count": 51,
     "metadata": {},
     "output_type": "execute_result"
    },
    {
     "data": {
      "image/png": "[encoded data removed]",
      "text/plain": [
       "<matplotlib.figure.Figure at 0x11afda3c8>"
      ]
     },
     "metadata": {},
     "output_type": "display_data"
    }
   ],
   "source": [
    "df['x1'].hist()"
   ]
  },
  {
   "cell_type": "markdown",
   "metadata": {},
   "source": [
    "### The Model\n",
    "Assume x1 is given for x2, and so on\n",
    "For x1, we estimate the density and pick the MAP "
   ]
  },
  {
   "cell_type": "code",
   "execution_count": 52,
   "metadata": {},
   "outputs": [
    {
     "data": {
      "text/latex": [
       "\\begin{align}\n",
       "\\alpha \\sim \\Gamma(1,1) \\\\\n",
       "\\beta_1...\\beta_K \\sim \\beta(1, \\alpha) \\\\\n",
       "w_i = \\beta_i \\prod_{j=1}^{i-1}(1-\\beta_j) \\\\\n",
       "a_i \\sim U(0,50) \\\\\n",
       "b_i \\sim U(0,50) \\\\\n",
       "\\lambda_i = a_i * x_1 + b_i \\\\\n",
       "x_2 \\sim \\sum_{}^{}w_i Pois(\\lambda_i)\\\\\n",
       "\\end{align}"
      ],
      "text/plain": [
       "<IPython.core.display.Latex object>"
      ]
     },
     "metadata": {},
     "output_type": "display_data"
    }
   ],
   "source": [
    "%%latex\n",
    "\\begin{align}\n",
    "\\alpha \\sim \\Gamma(1,1) \\\\\n",
    "\\beta_1...\\beta_K \\sim \\beta(1, \\alpha) \\\\\n",
    "w_i = \\beta_i \\prod_{j=1}^{i-1}(1-\\beta_j) \\\\\n",
    "a_i \\sim U(0,50) \\\\\n",
    "b_i \\sim U(0,50) \\\\\n",
    "\\lambda_i = a_i * x_1 + b_i \\\\\n",
    "x_2 \\sim \\sum_{}^{}w_i Pois(\\lambda_i)\\\\\n",
    "\\end{align}"
   ]
  },
  {
   "cell_type": "code",
   "execution_count": 53,
   "metadata": {
    "collapsed": true
   },
   "outputs": [],
   "source": [
    "SEED=5132290\n",
    "K = 30\n",
    "#x1 = df['x1'].values\n",
    "def stick_breaking(beta):\n",
    "    portion_remaining = tt.concatenate([[1], tt.extra_ops.cumprod(1-beta)[:-1]])\n",
    "    return beta * portion_remaining\n"
   ]
  },
  {
   "cell_type": "code",
   "execution_count": 54,
   "metadata": {
    "collapsed": true
   },
   "outputs": [],
   "source": [
    "\n",
    "with pm.Model() as model:\n",
    "    alpha = pm.Gamma('alpha', 1, 1)\n",
    "    beta = pm.Beta('beta', 1, alpha, shape=K)\n",
    "    w = pm.Deterministic('w', stick_breaking(beta))\n",
    "    #a = pm.Uniform('a', 0, 50, shape=K)\n",
    "    #b = pm.Uniform('b', 0, 50, shape=K)\n",
    "    mu = pm.Uniform('mu', 0, 50, shape=K)\n",
    "    bp = [pm.Bound(pm.Poisson, lower=1, upper=70).dist(mu=mu[i]) for i in range(K)] \n",
    "    #x = pm.Mixture('obs', w, pm.Poisson.dist(mu), observed=df['x1'].values)\n",
    "    x = pm.Mixture('obs', w, bp, observed=df['x1'].values)\n"
   ]
  },
  {
   "cell_type": "code",
   "execution_count": 56,
   "metadata": {
    "scrolled": true
   },
   "outputs": [
    {
     "name": "stderr",
     "output_type": "stream",
     "text": [
      "100%|██████████| 1000/1000 [00:04<00:00, 222.70it/s]\n"
     ]
    }
   ],
   "source": [
    "with model:\n",
    "    trace = pm.sample(1000, step=pm.Metropolis(), n_init=10000, random_seed=SEED)"
   ]
  },
  {
   "cell_type": "code",
   "execution_count": 57,
   "metadata": {},
   "outputs": [
    {
     "data": {
      "image/png": "[encoded data removed]",
      "text/plain": [
       "<matplotlib.figure.Figure at 0x1573337b8>"
      ]
     },
     "metadata": {},
     "output_type": "display_data"
    }
   ],
   "source": [
    "with model:\n",
    "    pm.traceplot(trace, varnames=['alpha'])"
   ]
  },
  {
   "cell_type": "code",
   "execution_count": 58,
   "metadata": {},
   "outputs": [
    {
     "data": {
      "text/plain": [
       "<matplotlib.text.Text at 0x11ff46518>"
      ]
     },
     "execution_count": 58,
     "metadata": {},
     "output_type": "execute_result"
    },
    {
     "data": {
      "image/png": "[encoded data removed]",
      "text/plain": [
       "<matplotlib.figure.Figure at 0x120f1bba8>"
      ]
     },
     "metadata": {},
     "output_type": "display_data"
    }
   ],
   "source": [
    "plot_w = np.arange(K) + 1\n",
    "fig, ax = plt.subplots(figsize=(8,6))\n",
    "#ax.hist(df['x2'].values, alpha=0.2, color='blue', normed=True)\n",
    "ax.plot(plot_w-0.5, trace['w'].mean(axis=0) )\n",
    "ax.plot(plot_w-0.5, np.cumsum(trace['w'].mean(axis=0)))\n",
    "ax.set_xlim(.5, K)\n",
    "ax.set_ylabel('Mixture weight')"
   ]
  },
  {
   "cell_type": "code",
   "execution_count": 59,
   "metadata": {},
   "outputs": [
    {
     "data": {
      "text/plain": [
       "array([ 0.1952044 ,  0.50368377,  0.51027047,  0.75003539,  0.75214244,\n",
       "        0.98987932,  0.99019522,  0.99461279,  0.99763915,  0.99893057,\n",
       "        0.99955439,  0.99997247,  0.99997922,  0.99999096,  0.9999912 ,\n",
       "        0.99999265,  0.99999974,  0.99999998,  0.99999999,  1.        ,\n",
       "        1.        ,  1.        ,  1.        ,  1.        ,  1.        ,\n",
       "        1.        ,  1.        ,  1.        ,  1.        ,  1.        ])"
      ]
     },
     "execution_count": 59,
     "metadata": {},
     "output_type": "execute_result"
    }
   ],
   "source": [
    "np.cumsum(trace['w'].mean(axis=0))"
   ]
  },
  {
   "cell_type": "code",
   "execution_count": 60,
   "metadata": {},
   "outputs": [
    {
     "data": {
      "text/plain": [
       "((1000, 50), (1000, 30), (5, 50), (1000, 30))"
      ]
     },
     "execution_count": 60,
     "metadata": {},
     "output_type": "execute_result"
    }
   ],
   "source": [
    "x_plot = np.arange(50) #Range of values of x1\n",
    "#Create the set of Poisson distributions with means 'mu'\n",
    "pmf_contribs = sp.stats.poisson.pmf(np.atleast_3d(x_plot), trace['mu'][:, np.newaxis, :])\n",
    "\n",
    "#Multiply each distribution by its weight\n",
    "wt_pmfs = (trace['w'][:, np.newaxis, :] * pmf_contribs).sum(axis=-1)\n",
    "#trace['mu'].shape, x_plot.shape,np.atleast_3d(x_plot).shape, pmf_contribs.shape, pmfs.shape\n",
    "wt_pmfs.shape, trace['mu'].shape, wt_pmfs[::200].shape, pmf_contribs.mean(axis=1).shape"
   ]
  },
  {
   "cell_type": "code",
   "execution_count": 61,
   "metadata": {},
   "outputs": [
    {
     "data": {
      "text/plain": [
       "[<matplotlib.lines.Line2D at 0x156f92dd8>]"
      ]
     },
     "execution_count": 61,
     "metadata": {},
     "output_type": "execute_result"
    },
    {
     "data": {
      "image/png": "[encoded data removed]",
      "text/plain": [
       "<matplotlib.figure.Figure at 0x156f92e10>"
      ]
     },
     "metadata": {},
     "output_type": "display_data"
    }
   ],
   "source": [
    "fig, ax = plt.subplots(figsize=(8,6))\n",
    "ax.hist(df['x1'].values, bins=54, alpha=0.2,normed=True)\n",
    "#ax.plot(x_plot, wt_pmfs[0])\n",
    "ax.plot(x_plot, wt_pmfs.mean(axis=0))\n",
    "#ax.plot(x_plot, wt_pmfs[::200].T, color='orange')"
   ]
  },
  {
   "cell_type": "code",
   "execution_count": 62,
   "metadata": {},
   "outputs": [
    {
     "data": {
      "text/plain": [
       "((1000, 30), (1000,), (1000, 30))"
      ]
     },
     "execution_count": 62,
     "metadata": {},
     "output_type": "execute_result"
    }
   ],
   "source": [
    "pmf_contribs.mean(axis=1).shape, wt_pmfs.mean(axis=1).shape, trace['mu'].shape"
   ]
  },
  {
   "cell_type": "code",
   "execution_count": 63,
   "metadata": {},
   "outputs": [
    {
     "name": "stderr",
     "output_type": "stream",
     "text": [
      "100%|██████████| 1000/1000 [02:15<00:00,  6.93it/s]\n"
     ]
    },
    {
     "data": {
      "image/png": "[encoded data removed]",
      "text/plain": [
       "<matplotlib.figure.Figure at 0x12bd27f98>"
      ]
     },
     "metadata": {},
     "output_type": "display_data"
    }
   ],
   "source": [
    "with model:\n",
    "    ppc = pm.sample_ppc(trace, 1000)\n",
    "    fig, ax = plt.subplots(figsize=(8,6))\n",
    "    ax.hist(ppc['obs'], bins=50, normed=True, alpha=0.3, color='green', label='Posterior predictions')\n",
    "    ax.hist(df['x1'], bins=50, normed=True, alpha=0.3, label='Training data')\n",
    "    ax.legend(loc=1)"
   ]
  },
  {
   "cell_type": "code",
   "execution_count": 64,
   "metadata": {},
   "outputs": [
    {
     "data": {
      "text/plain": [
       "((1000,), (2022,))"
      ]
     },
     "execution_count": 64,
     "metadata": {},
     "output_type": "execute_result"
    }
   ],
   "source": [
    "ppc['obs'].shape, df['x1'].shape"
   ]
  },
  {
   "cell_type": "markdown",
   "metadata": {},
   "source": [
    "### Try dependent distribution for x2\n",
    "Based on x1"
   ]
  },
  {
   "cell_type": "code",
   "execution_count": 65,
   "metadata": {},
   "outputs": [],
   "source": [
    "#std_range = df.std_range.values[:, np.newaxis]\n",
    "#shared(std_range, broadcastable=(False, True))\n",
    "#x1_shift = ppc['obs'][:K]\n",
    "x1_shift = shared(df['x1'].values[:, np.newaxis], broadcastable=(False, True))\n",
    "x2obs = df['x2'].values[:, np.newaxis]\n",
    "#x2obs = df['x2'].values\n",
    "\n",
    "#Model for x2\n",
    "with pm.Model() as x2model:\n",
    "    alpha = pm.Gamma('alpha', 1, 1)\n",
    "    beta = pm.Beta('beta', 1, alpha, shape=K)\n",
    "    w = pm.Deterministic('w', stick_breaking(beta))\n",
    "    #a = pm.Uniform('a', 0, 50, shape=K)\n",
    "    #b = pm.Uniform('b', 0, 50, shape=K)\n",
    "    eta = pm.Uniform('eta', 0, 20, shape=K)\n",
    "    delta = pm.Uniform('delta', 0, 10., shape=K)\n",
    "    mu = pm.Deterministic('mu', eta + delta * x1_shift)\n",
    "    bp = [pm.Bound(pm.Poisson, lower=1, upper=70).dist(mu=mu[i]) for i in range(K)] \n",
    "    #x = pm.Mixture('obs', w, pm.Poisson.dist(mu), observed=df['x1'].values)\n",
    "    x2 = pm.Mixture('obsx2', w, bp, observed=x2obs)\n",
    "    "
   ]
  },
  {
   "cell_type": "code",
   "execution_count": 66,
   "metadata": {},
   "outputs": [
    {
     "data": {
      "text/plain": [
       "(2022,)"
      ]
     },
     "execution_count": 66,
     "metadata": {},
     "output_type": "execute_result"
    }
   ],
   "source": [
    "df['x2'].values.shape"
   ]
  },
  {
   "cell_type": "code",
   "execution_count": 67,
   "metadata": {},
   "outputs": [
    {
     "name": "stderr",
     "output_type": "stream",
     "text": [
      "100%|██████████| 1000/1000 [03:10<00:00,  5.33it/s]\n"
     ]
    }
   ],
   "source": [
    "with x2model:\n",
    "    x2trace = pm.sample(1000, step=pm.Metropolis(), n_init=1000, random_seed=SEED)\n"
   ]
  },
  {
   "cell_type": "code",
   "execution_count": 68,
   "metadata": {},
   "outputs": [
    {
     "data": {
      "text/plain": [
       "(array([ 26.,   0.,   1.,   1.,   0.,   0.,   0.,   0.,   1.,   1.]),\n",
       " array([  2.16089307e-12,   4.01720155e-02,   8.03440311e-02,\n",
       "          1.20516047e-01,   1.60688062e-01,   2.00860078e-01,\n",
       "          2.41032093e-01,   2.81204109e-01,   3.21376124e-01,\n",
       "          3.61548140e-01,   4.01720155e-01]),\n",
       " <a list of 10 Patch objects>)"
      ]
     },
     "execution_count": 68,
     "metadata": {},
     "output_type": "execute_result"
    }
   ],
   "source": [
    "x2trace.varnames\n",
    "ax.hist(x2trace['w'].mean(axis=0))"
   ]
  },
  {
   "cell_type": "code",
   "execution_count": 69,
   "metadata": {},
   "outputs": [
    {
     "data": {
      "text/plain": [
       "<matplotlib.text.Text at 0x18442d128>"
      ]
     },
     "execution_count": 69,
     "metadata": {},
     "output_type": "execute_result"
    },
    {
     "data": {
      "image/png": "[encoded data removed]",
      "text/plain": [
       "<matplotlib.figure.Figure at 0x1666dbbe0>"
      ]
     },
     "metadata": {},
     "output_type": "display_data"
    }
   ],
   "source": [
    "plot_x = np.arange(K) + 1\n",
    "fig, ax = plt.subplots(figsize=(8,6))\n",
    "#ax.hist(df['x2'].values, alpha=0.2, color='blue', normed=True)\n",
    "ax.plot(plot_x-0.5, x2trace['w'].mean(axis=0), label='w')\n",
    "ax.plot(plot_x-0.5, np.cumsum(x2trace['w'].mean(axis=0)))\n",
    "#ax.plot(plot_x-0.5, x2trace['eta'].mean(axis=0), label='eta')\n",
    "#ax.plot(plot_x-0.5, x2trace['delta'].mean(axis=0), label='delta')\n",
    "ax.set_xlim(0, K)\n",
    "ax.set_ylabel('Mixture weight')"
   ]
  },
  {
   "cell_type": "code",
   "execution_count": 70,
   "metadata": {},
   "outputs": [
    {
     "data": {
      "text/plain": [
       "['alpha_log_',\n",
       " 'beta_logodds_',\n",
       " 'eta_interval_',\n",
       " 'delta_interval_',\n",
       " 'alpha',\n",
       " 'beta',\n",
       " 'w',\n",
       " 'eta',\n",
       " 'delta',\n",
       " 'mu']"
      ]
     },
     "execution_count": 70,
     "metadata": {},
     "output_type": "execute_result"
    },
    {
     "data": {
      "image/png": "[encoded data removed]",
      "text/plain": [
       "<matplotlib.figure.Figure at 0x1666db358>"
      ]
     },
     "metadata": {},
     "output_type": "display_data"
    }
   ],
   "source": [
    "sns.distplot(x2trace['w'].mean(axis=0))\n",
    "x2trace.varnames"
   ]
  },
  {
   "cell_type": "code",
   "execution_count": 73,
   "metadata": {},
   "outputs": [
    {
     "name": "stderr",
     "output_type": "stream",
     "text": [
      "\n",
      "\n",
      "  0%|          | 0/1000 [00:00<?, ?it/s]\u001b[A\u001b[A"
     ]
    },
    {
     "ename": "ValueError",
     "evalue": "could not broadcast input array from shape (14) into shape (1)",
     "output_type": "error",
     "traceback": [
      "\u001b[0;31m---------------------------------------------------------------------------\u001b[0m",
      "\u001b[0;31mAttributeError\u001b[0m                            Traceback (most recent call last)",
      "\u001b[0;32m/Users/vmullachery/anaconda/envs/dl3.6/lib/python3.6/site-packages/pymc3/distributions/mixture.py\u001b[0m in \u001b[0;36m_comp_samples\u001b[0;34m(self, point, size, repeat)\u001b[0m\n\u001b[1;32m    101\u001b[0m         \u001b[0;32mtry\u001b[0m\u001b[0;34m:\u001b[0m\u001b[0;34m\u001b[0m\u001b[0m\n\u001b[0;32m--> 102\u001b[0;31m             \u001b[0msamples\u001b[0m \u001b[0;34m=\u001b[0m \u001b[0mself\u001b[0m\u001b[0;34m.\u001b[0m\u001b[0mcomp_dists\u001b[0m\u001b[0;34m.\u001b[0m\u001b[0mrandom\u001b[0m\u001b[0;34m(\u001b[0m\u001b[0mpoint\u001b[0m\u001b[0;34m=\u001b[0m\u001b[0mpoint\u001b[0m\u001b[0;34m,\u001b[0m \u001b[0msize\u001b[0m\u001b[0;34m=\u001b[0m\u001b[0msize\u001b[0m\u001b[0;34m,\u001b[0m \u001b[0mrepeat\u001b[0m\u001b[0;34m=\u001b[0m\u001b[0mrepeat\u001b[0m\u001b[0;34m)\u001b[0m\u001b[0;34m\u001b[0m\u001b[0m\n\u001b[0m\u001b[1;32m    103\u001b[0m         \u001b[0;32mexcept\u001b[0m \u001b[0mAttributeError\u001b[0m\u001b[0;34m:\u001b[0m\u001b[0;34m\u001b[0m\u001b[0m\n",
      "\u001b[0;31mAttributeError\u001b[0m: 'list' object has no attribute 'random'",
      "\nDuring handling of the above exception, another exception occurred:\n",
      "\u001b[0;31mValueError\u001b[0m                                Traceback (most recent call last)",
      "\u001b[0;32m<ipython-input-73-802c9cc44cd5>\u001b[0m in \u001b[0;36m<module>\u001b[0;34m()\u001b[0m\n\u001b[1;32m      1\u001b[0m \u001b[0;32mwith\u001b[0m \u001b[0mx2model\u001b[0m\u001b[0;34m:\u001b[0m\u001b[0;34m\u001b[0m\u001b[0m\n\u001b[0;32m----> 2\u001b[0;31m     \u001b[0mx2ppc\u001b[0m \u001b[0;34m=\u001b[0m \u001b[0mpm\u001b[0m\u001b[0;34m.\u001b[0m\u001b[0msample_ppc\u001b[0m\u001b[0;34m(\u001b[0m\u001b[0mx2trace\u001b[0m\u001b[0;34m,\u001b[0m \u001b[0;36m1000\u001b[0m\u001b[0;34m)\u001b[0m\u001b[0;34m\u001b[0m\u001b[0m\n\u001b[0m\u001b[1;32m      3\u001b[0m \u001b[0;34m\u001b[0m\u001b[0m\n\u001b[1;32m      4\u001b[0m \u001b[0mfig\u001b[0m\u001b[0;34m,\u001b[0m \u001b[0max\u001b[0m \u001b[0;34m=\u001b[0m \u001b[0mplt\u001b[0m\u001b[0;34m.\u001b[0m\u001b[0msubplots\u001b[0m\u001b[0;34m(\u001b[0m\u001b[0mfigsize\u001b[0m\u001b[0;34m=\u001b[0m\u001b[0;34m(\u001b[0m\u001b[0;36m8\u001b[0m\u001b[0;34m,\u001b[0m\u001b[0;36m6\u001b[0m\u001b[0;34m)\u001b[0m\u001b[0;34m)\u001b[0m\u001b[0;34m\u001b[0m\u001b[0m\n\u001b[1;32m      5\u001b[0m \u001b[0max\u001b[0m\u001b[0;34m.\u001b[0m\u001b[0mhist\u001b[0m\u001b[0;34m(\u001b[0m\u001b[0mx2ppc\u001b[0m\u001b[0;34m[\u001b[0m\u001b[0;34m'obsx2'\u001b[0m\u001b[0;34m]\u001b[0m\u001b[0;34m,\u001b[0m \u001b[0mbins\u001b[0m\u001b[0;34m=\u001b[0m\u001b[0;36m50\u001b[0m\u001b[0;34m,\u001b[0m \u001b[0mnormed\u001b[0m\u001b[0;34m=\u001b[0m\u001b[0;32mTrue\u001b[0m\u001b[0;34m,\u001b[0m \u001b[0malpha\u001b[0m\u001b[0;34m=\u001b[0m\u001b[0;36m0.3\u001b[0m\u001b[0;34m,\u001b[0m \u001b[0mcolor\u001b[0m\u001b[0;34m=\u001b[0m\u001b[0;34m'green'\u001b[0m\u001b[0;34m,\u001b[0m \u001b[0mlabel\u001b[0m\u001b[0;34m=\u001b[0m\u001b[0;34m'Posterior predictions'\u001b[0m\u001b[0;34m)\u001b[0m\u001b[0;34m\u001b[0m\u001b[0m\n",
      "\u001b[0;32m/Users/vmullachery/anaconda/envs/dl3.6/lib/python3.6/site-packages/pymc3/sampling.py\u001b[0m in \u001b[0;36msample_ppc\u001b[0;34m(trace, samples, model, vars, size, random_seed, progressbar)\u001b[0m\n\u001b[1;32m    389\u001b[0m         \u001b[0;32mfor\u001b[0m \u001b[0mvar\u001b[0m \u001b[0;32min\u001b[0m \u001b[0mvars\u001b[0m\u001b[0;34m:\u001b[0m\u001b[0;34m\u001b[0m\u001b[0m\n\u001b[1;32m    390\u001b[0m             ppc[var.name].append(var.distribution.random(point=param,\n\u001b[0;32m--> 391\u001b[0;31m                                                          size=size))\n\u001b[0m\u001b[1;32m    392\u001b[0m \u001b[0;34m\u001b[0m\u001b[0m\n\u001b[1;32m    393\u001b[0m     \u001b[0;32mreturn\u001b[0m \u001b[0;34m{\u001b[0m\u001b[0mk\u001b[0m\u001b[0;34m:\u001b[0m \u001b[0mnp\u001b[0m\u001b[0;34m.\u001b[0m\u001b[0masarray\u001b[0m\u001b[0;34m(\u001b[0m\u001b[0mv\u001b[0m\u001b[0;34m)\u001b[0m \u001b[0;32mfor\u001b[0m \u001b[0mk\u001b[0m\u001b[0;34m,\u001b[0m \u001b[0mv\u001b[0m \u001b[0;32min\u001b[0m \u001b[0mppc\u001b[0m\u001b[0;34m.\u001b[0m\u001b[0mitems\u001b[0m\u001b[0;34m(\u001b[0m\u001b[0;34m)\u001b[0m\u001b[0;34m}\u001b[0m\u001b[0;34m\u001b[0m\u001b[0m\n",
      "\u001b[0;32m/Users/vmullachery/anaconda/envs/dl3.6/lib/python3.6/site-packages/pymc3/distributions/mixture.py\u001b[0m in \u001b[0;36mrandom\u001b[0;34m(self, point, size, repeat)\u001b[0m\n\u001b[1;32m    131\u001b[0m                                      \u001b[0mdist_shape\u001b[0m\u001b[0;34m=\u001b[0m\u001b[0mself\u001b[0m\u001b[0;34m.\u001b[0m\u001b[0mshape\u001b[0m\u001b[0;34m,\u001b[0m\u001b[0;34m\u001b[0m\u001b[0m\n\u001b[1;32m    132\u001b[0m                                      size=size).squeeze()\n\u001b[0;32m--> 133\u001b[0;31m         \u001b[0mcomp_samples\u001b[0m \u001b[0;34m=\u001b[0m \u001b[0mself\u001b[0m\u001b[0;34m.\u001b[0m\u001b[0m_comp_samples\u001b[0m\u001b[0;34m(\u001b[0m\u001b[0mpoint\u001b[0m\u001b[0;34m=\u001b[0m\u001b[0mpoint\u001b[0m\u001b[0;34m,\u001b[0m \u001b[0msize\u001b[0m\u001b[0;34m=\u001b[0m\u001b[0msize\u001b[0m\u001b[0;34m,\u001b[0m \u001b[0mrepeat\u001b[0m\u001b[0;34m=\u001b[0m\u001b[0mrepeat\u001b[0m\u001b[0;34m)\u001b[0m\u001b[0;34m\u001b[0m\u001b[0m\n\u001b[0m\u001b[1;32m    134\u001b[0m \u001b[0;34m\u001b[0m\u001b[0m\n\u001b[1;32m    135\u001b[0m         \u001b[0;32mif\u001b[0m \u001b[0mcomp_samples\u001b[0m\u001b[0;34m.\u001b[0m\u001b[0mndim\u001b[0m \u001b[0;34m>\u001b[0m \u001b[0;36m1\u001b[0m\u001b[0;34m:\u001b[0m\u001b[0;34m\u001b[0m\u001b[0m\n",
      "\u001b[0;32m/Users/vmullachery/anaconda/envs/dl3.6/lib/python3.6/site-packages/pymc3/distributions/mixture.py\u001b[0m in \u001b[0;36m_comp_samples\u001b[0;34m(self, point, size, repeat)\u001b[0m\n\u001b[1;32m    103\u001b[0m         \u001b[0;32mexcept\u001b[0m \u001b[0mAttributeError\u001b[0m\u001b[0;34m:\u001b[0m\u001b[0;34m\u001b[0m\u001b[0m\n\u001b[1;32m    104\u001b[0m             samples = np.column_stack([comp_dist.random(point=point, size=size, repeat=repeat)\n\u001b[0;32m--> 105\u001b[0;31m                                        for comp_dist in self.comp_dists])\n\u001b[0m\u001b[1;32m    106\u001b[0m \u001b[0;34m\u001b[0m\u001b[0m\n\u001b[1;32m    107\u001b[0m         \u001b[0;32mreturn\u001b[0m \u001b[0mnp\u001b[0m\u001b[0;34m.\u001b[0m\u001b[0msqueeze\u001b[0m\u001b[0;34m(\u001b[0m\u001b[0msamples\u001b[0m\u001b[0;34m)\u001b[0m\u001b[0;34m\u001b[0m\u001b[0m\n",
      "\u001b[0;32m/Users/vmullachery/anaconda/envs/dl3.6/lib/python3.6/site-packages/pymc3/distributions/mixture.py\u001b[0m in \u001b[0;36m<listcomp>\u001b[0;34m(.0)\u001b[0m\n\u001b[1;32m    103\u001b[0m         \u001b[0;32mexcept\u001b[0m \u001b[0mAttributeError\u001b[0m\u001b[0;34m:\u001b[0m\u001b[0;34m\u001b[0m\u001b[0m\n\u001b[1;32m    104\u001b[0m             samples = np.column_stack([comp_dist.random(point=point, size=size, repeat=repeat)\n\u001b[0;32m--> 105\u001b[0;31m                                        for comp_dist in self.comp_dists])\n\u001b[0m\u001b[1;32m    106\u001b[0m \u001b[0;34m\u001b[0m\u001b[0m\n\u001b[1;32m    107\u001b[0m         \u001b[0;32mreturn\u001b[0m \u001b[0mnp\u001b[0m\u001b[0;34m.\u001b[0m\u001b[0msqueeze\u001b[0m\u001b[0;34m(\u001b[0m\u001b[0msamples\u001b[0m\u001b[0;34m)\u001b[0m\u001b[0;34m\u001b[0m\u001b[0m\n",
      "\u001b[0;32m/Users/vmullachery/anaconda/envs/dl3.6/lib/python3.6/site-packages/pymc3/distributions/continuous.py\u001b[0m in \u001b[0;36mrandom\u001b[0;34m(self, point, size, repeat)\u001b[0m\n\u001b[1;32m   1183\u001b[0m         return generate_samples(self._random, lower, upper, point,\n\u001b[1;32m   1184\u001b[0m                                 \u001b[0mdist_shape\u001b[0m\u001b[0;34m=\u001b[0m\u001b[0mself\u001b[0m\u001b[0;34m.\u001b[0m\u001b[0mshape\u001b[0m\u001b[0;34m,\u001b[0m\u001b[0;34m\u001b[0m\u001b[0m\n\u001b[0;32m-> 1185\u001b[0;31m                                 size=size)\n\u001b[0m\u001b[1;32m   1186\u001b[0m \u001b[0;34m\u001b[0m\u001b[0m\n\u001b[1;32m   1187\u001b[0m     \u001b[0;32mdef\u001b[0m \u001b[0mlogp\u001b[0m\u001b[0;34m(\u001b[0m\u001b[0mself\u001b[0m\u001b[0;34m,\u001b[0m \u001b[0mvalue\u001b[0m\u001b[0;34m)\u001b[0m\u001b[0;34m:\u001b[0m\u001b[0;34m\u001b[0m\u001b[0m\n",
      "\u001b[0;32m/Users/vmullachery/anaconda/envs/dl3.6/lib/python3.6/site-packages/pymc3/distributions/distribution.py\u001b[0m in \u001b[0;36mgenerate_samples\u001b[0;34m(generator, *args, **kwargs)\u001b[0m\n\u001b[1;32m    336\u001b[0m             \u001b[0msamples\u001b[0m \u001b[0;34m=\u001b[0m \u001b[0mgenerator\u001b[0m\u001b[0;34m(\u001b[0m\u001b[0msize\u001b[0m\u001b[0;34m=\u001b[0m\u001b[0msize\u001b[0m\u001b[0;34m,\u001b[0m \u001b[0;34m*\u001b[0m\u001b[0margs\u001b[0m\u001b[0;34m,\u001b[0m \u001b[0;34m**\u001b[0m\u001b[0mkwargs\u001b[0m\u001b[0;34m)\u001b[0m\u001b[0;34m\u001b[0m\u001b[0m\n\u001b[1;32m    337\u001b[0m         \u001b[0;32melse\u001b[0m\u001b[0;34m:\u001b[0m\u001b[0;34m\u001b[0m\u001b[0m\n\u001b[0;32m--> 338\u001b[0;31m             \u001b[0msamples\u001b[0m \u001b[0;34m=\u001b[0m \u001b[0mgenerator\u001b[0m\u001b[0;34m(\u001b[0m\u001b[0msize\u001b[0m\u001b[0;34m=\u001b[0m\u001b[0;36m1\u001b[0m\u001b[0;34m,\u001b[0m \u001b[0;34m*\u001b[0m\u001b[0margs\u001b[0m\u001b[0;34m,\u001b[0m \u001b[0;34m**\u001b[0m\u001b[0mkwargs\u001b[0m\u001b[0;34m)\u001b[0m\u001b[0;34m\u001b[0m\u001b[0m\n\u001b[0m\u001b[1;32m    339\u001b[0m     \u001b[0;32melse\u001b[0m\u001b[0;34m:\u001b[0m\u001b[0;34m\u001b[0m\u001b[0m\n\u001b[1;32m    340\u001b[0m         \u001b[0;32mif\u001b[0m \u001b[0msize\u001b[0m \u001b[0;32mis\u001b[0m \u001b[0;32mnot\u001b[0m \u001b[0;32mNone\u001b[0m\u001b[0;34m:\u001b[0m\u001b[0;34m\u001b[0m\u001b[0m\n",
      "\u001b[0;32m/Users/vmullachery/anaconda/envs/dl3.6/lib/python3.6/site-packages/pymc3/distributions/continuous.py\u001b[0m in \u001b[0;36m_random\u001b[0;34m(self, lower, upper, point, size)\u001b[0m\n\u001b[1;32m   1171\u001b[0m             \u001b[0msample\u001b[0m \u001b[0;34m=\u001b[0m \u001b[0mself\u001b[0m\u001b[0;34m.\u001b[0m\u001b[0mdist\u001b[0m\u001b[0;34m.\u001b[0m\u001b[0mrandom\u001b[0m\u001b[0;34m(\u001b[0m\u001b[0mpoint\u001b[0m\u001b[0;34m=\u001b[0m\u001b[0mpoint\u001b[0m\u001b[0;34m,\u001b[0m \u001b[0msize\u001b[0m\u001b[0;34m=\u001b[0m\u001b[0mn\u001b[0m\u001b[0;34m)\u001b[0m\u001b[0;34m\u001b[0m\u001b[0m\n\u001b[1;32m   1172\u001b[0m             \u001b[0mselect\u001b[0m \u001b[0;34m=\u001b[0m \u001b[0msample\u001b[0m\u001b[0;34m[\u001b[0m\u001b[0mnp\u001b[0m\u001b[0;34m.\u001b[0m\u001b[0mlogical_and\u001b[0m\u001b[0;34m(\u001b[0m\u001b[0msample\u001b[0m \u001b[0;34m>\u001b[0m \u001b[0mlower\u001b[0m\u001b[0;34m,\u001b[0m \u001b[0msample\u001b[0m \u001b[0;34m<=\u001b[0m \u001b[0mupper\u001b[0m\u001b[0;34m)\u001b[0m\u001b[0;34m]\u001b[0m\u001b[0;34m\u001b[0m\u001b[0m\n\u001b[0;32m-> 1173\u001b[0;31m             \u001b[0msamples\u001b[0m\u001b[0;34m[\u001b[0m\u001b[0mi\u001b[0m\u001b[0;34m:\u001b[0m\u001b[0;34m(\u001b[0m\u001b[0mi\u001b[0m \u001b[0;34m+\u001b[0m \u001b[0mlen\u001b[0m\u001b[0;34m(\u001b[0m\u001b[0mselect\u001b[0m\u001b[0;34m)\u001b[0m\u001b[0;34m)\u001b[0m\u001b[0;34m]\u001b[0m \u001b[0;34m=\u001b[0m \u001b[0mselect\u001b[0m\u001b[0;34m[\u001b[0m\u001b[0;34m:\u001b[0m\u001b[0;34m]\u001b[0m\u001b[0;34m\u001b[0m\u001b[0m\n\u001b[0m\u001b[1;32m   1174\u001b[0m             \u001b[0mi\u001b[0m \u001b[0;34m+=\u001b[0m \u001b[0mlen\u001b[0m\u001b[0;34m(\u001b[0m\u001b[0mselect\u001b[0m\u001b[0;34m)\u001b[0m\u001b[0;34m\u001b[0m\u001b[0m\n\u001b[1;32m   1175\u001b[0m             \u001b[0mn\u001b[0m \u001b[0;34m-=\u001b[0m \u001b[0mlen\u001b[0m\u001b[0;34m(\u001b[0m\u001b[0mselect\u001b[0m\u001b[0;34m)\u001b[0m\u001b[0;34m\u001b[0m\u001b[0m\n",
      "\u001b[0;31mValueError\u001b[0m: could not broadcast input array from shape (14) into shape (1)"
     ]
    }
   ],
   "source": [
    "with x2model:\n",
    "    x2ppc = pm.sample_ppc(x2trace, 1000)\n",
    "    \n",
    "fig, ax = plt.subplots(figsize=(8,6))\n",
    "ax.hist(x2ppc['obsx2'], bins=50, normed=True, alpha=0.3, color='green', label='Posterior predictions')\n",
    "ax.hist(df['x2'], bins=50, normed=True, alpha=0.3, label='Training data')\n",
    "ax.legend(loc=1)"
   ]
  },
  {
   "cell_type": "code",
   "execution_count": null,
   "metadata": {
    "collapsed": true
   },
   "outputs": [],
   "source": [
    "fig, ax = plt.subplots(figsize=(8,6))\n",
    "x2ppc['obsx2'].min(), x2ppc['obsx2'].max(), x2ppc['obsx2'][:20], x1_shift[:20], x2ppc['obsx2'][:-5] "
   ]
  },
  {
   "cell_type": "code",
   "execution_count": null,
   "metadata": {
    "collapsed": true,
    "scrolled": true
   },
   "outputs": [],
   "source": [
    "from scipy.stats import wasserstein_distance, energy_distance \n",
    "energy_distance(ppc['obs'], df['x1']), wasserstein_distance(ppc['obs'], df['x1'])"
   ]
  },
  {
   "cell_type": "markdown",
   "metadata": {},
   "source": [
    "### Trials and tribulations\n",
    "Do a conda install pydot, graphviz\n",
    "Then, Add the path to dot.exe under graphviz (under Anaconda) to your system PATH variable\n",
    "Then the following SVG call might work"
   ]
  },
  {
   "cell_type": "code",
   "execution_count": null,
   "metadata": {
    "collapsed": true
   },
   "outputs": [],
   "source": [
    "import pydot, theano\n",
    "ax = theano.tensor.scalar()\n",
    "print(ax)\n",
    "theano.pprint(ax)\n",
    "theano.printing.debugprint(ax)\n",
    "from IPython.display import SVG\n",
    "SVG(theano.printing.pydotprint(ax, return_image=True, format='svg'))\n",
    "\n",
    "ay = 3*(ax**2) + 1\n",
    "ay.eval({ax : 1})\n",
    "theano.pprint(ay)\n",
    "theano.printing.debugprint(ay)\n",
    "SVG(theano.printing.pydotprint(ay, return_image=True, format='svg'))\n"
   ]
  },
  {
   "cell_type": "code",
   "execution_count": null,
   "metadata": {
    "collapsed": true
   },
   "outputs": [],
   "source": [
    "from sklearn.model_selection import train_test_split\n",
    "df = df.sample(frac=1).reset_index(drop=True)\n",
    "X_train, X_test, y_train, y_test = train_test_split(df['x6'], df['x1'], test_size=0.1)\n",
    "X_train = np.reshape(X_train, (-1, 1))\n",
    "y_train = np.reshape(y_train, (-1, 1))\n",
    "X_test = np.reshape(X_test, (-1,1))\n",
    "y_test = np.reshape(y_test, (-1, 1)) \n",
    "\n",
    "X_train, y_train, X_test, y_test"
   ]
  },
  {
   "cell_type": "code",
   "execution_count": null,
   "metadata": {
    "collapsed": true,
    "scrolled": true
   },
   "outputs": [],
   "source": [
    "fig, ax = plt.subplots(9, 5, figsize=(12, 20), sharey=True)\n",
    "for i in range(0, 42):\n",
    "    sns.distplot(df.loc[df['x6']==i+1]['x1'], ax=ax[i//5, i%5])\n"
   ]
  },
  {
   "cell_type": "code",
   "execution_count": null,
   "metadata": {
    "collapsed": true
   },
   "outputs": [],
   "source": [
    "rf_reg = RandomForestRegressor(max_depth=10, n_estimators=20)\n",
    "rf_reg.fit(X_train, y_train)\n",
    "y_ = np.round(rf_reg.predict(X_test))\n",
    "y_ = np.reshape(y_, (-1, 1))\n",
    "y_.shape, X_test.shape, y_test.shape, X_train.shape, y_train.shape, \n"
   ]
  },
  {
   "cell_type": "code",
   "execution_count": null,
   "metadata": {
    "collapsed": true
   },
   "outputs": [],
   "source": [
    "#Within an epsilon distance\n",
    "epsilon = 1\n",
    "sum(np.sum((abs(y_ - y_test) <= epsilon), axis=1)) * 100./y_.shape[0]"
   ]
  },
  {
   "cell_type": "code",
   "execution_count": null,
   "metadata": {
    "collapsed": true
   },
   "outputs": [],
   "source": [
    "X_train.max(), X_train.min(), y_train.max(), y_train.min()"
   ]
  },
  {
   "cell_type": "markdown",
   "metadata": {},
   "source": [
    "### Log transformed in and out\n",
    "Transform x6 and x1 by np.log"
   ]
  },
  {
   "cell_type": "code",
   "execution_count": null,
   "metadata": {
    "collapsed": true
   },
   "outputs": [],
   "source": [
    "X_train, y_train, X_test, y_test = np.log(X_train), np.log(y_train), \\\n",
    "    np.log(X_test), np.log(y_test)\n",
    "    "
   ]
  },
  {
   "cell_type": "code",
   "execution_count": null,
   "metadata": {
    "collapsed": true
   },
   "outputs": [],
   "source": [
    "sns.distplot(y_train)"
   ]
  },
  {
   "cell_type": "code",
   "execution_count": null,
   "metadata": {
    "collapsed": true
   },
   "outputs": [],
   "source": [
    "y_train.min()\n",
    "#sns.distplot(np.log(y_train))"
   ]
  },
  {
   "cell_type": "code",
   "execution_count": null,
   "metadata": {
    "collapsed": true
   },
   "outputs": [],
   "source": []
  },
  {
   "cell_type": "code",
   "execution_count": null,
   "metadata": {
    "collapsed": true
   },
   "outputs": [],
   "source": [
    "\n",
    "rf_reg = RandomForestRegressor(max_depth=10, n_estimators=200)\n",
    "rf_reg.fit(X_train, y_train)\n",
    "y_ = rf_reg.predict(X_test)\n",
    "y_ = np.reshape(y_, (-1, 1))\n",
    "#y_.shape, X_test.shape, y_test.shape, X_train.shape, y_train.shape, \n"
   ]
  },
  {
   "cell_type": "code",
   "execution_count": null,
   "metadata": {
    "collapsed": true
   },
   "outputs": [],
   "source": [
    "import math\n",
    "#Within an epsilon distance\n",
    "epsilon = math.e\n",
    "sum(np.sum((abs(y_ - y_test) <= epsilon), axis=1)) * 100./y_.shape[0]"
   ]
  },
  {
   "cell_type": "code",
   "execution_count": null,
   "metadata": {
    "collapsed": true
   },
   "outputs": [],
   "source": [
    "sns.distplot(np.exp(y_), color='b')\n",
    "sns.distplot(np.exp(y_test))"
   ]
  },
  {
   "cell_type": "code",
   "execution_count": null,
   "metadata": {
    "collapsed": true
   },
   "outputs": [],
   "source": [
    "#np.sqrt(np.sum(np.sum((y_ - y_test)**2, axis=1)))\n",
    "#np.sum((y_ - y_test)**2, axis=1)\n",
    "np.mean(y_ - y_test), np.var(y_ - y_test), np.max(y_ - y_test), np.min(y_ - y_test)"
   ]
  },
  {
   "cell_type": "markdown",
   "metadata": {},
   "source": [
    "### Prepare the data\n",
    "Training data consists of X1, X2 pairs\n",
    "Also split the data into train and test"
   ]
  },
  {
   "cell_type": "code",
   "execution_count": null,
   "metadata": {
    "collapsed": true
   },
   "outputs": [],
   "source": [
    "from sklearn.cross_validation import train_test_split\n",
    "def prepare_data(df):\n",
    "    X_data = df[['x1', 'x2']]\n",
    "    \n",
    "    #Shuffle\n",
    "    X_data = X_data.sample(frac=1).reset_index(drop=True)\n",
    "\n",
    "    #split - train, test\n",
    "    X_train, X_test, y_train, y_test = train_test_split(X_data['x1'], X_data['x2'], test_size=0.01)\n",
    "    X_train = np.reshape(X_train, (-1, 1))\n",
    "    X_test = np.reshape(X_test, (-1, 1))\n",
    "    y_train = np.reshape(y_train, (-1, 1))\n",
    "    y_test = np.reshape(y_test, (-1, 1))\n",
    "    return X_train, X_test, y_train, y_test\n",
    "\n",
    "X_train, X_test, y_train, y_test = prepare_data(df_train)"
   ]
  },
  {
   "cell_type": "code",
   "execution_count": null,
   "metadata": {
    "collapsed": true
   },
   "outputs": [],
   "source": []
  },
  {
   "cell_type": "markdown",
   "metadata": {},
   "source": [
    "### Plot the training data (X2)"
   ]
  },
  {
   "cell_type": "code",
   "execution_count": null,
   "metadata": {
    "collapsed": true
   },
   "outputs": [],
   "source": [
    "fig, ax = plt.subplots()\n",
    "ax.scatter(X_train, y_train, color='g', alpha=0.3)\n",
    "plt.xlabel('X1'); plt.ylabel('X2')"
   ]
  },
  {
   "cell_type": "markdown",
   "metadata": {},
   "source": [
    "_This makes sense of course, since X2 >= X1_"
   ]
  },
  {
   "cell_type": "code",
   "execution_count": null,
   "metadata": {
    "collapsed": true
   },
   "outputs": [],
   "source": [
    "sns.distplot(y_train)\n",
    "plt.legend()\n"
   ]
  },
  {
   "cell_type": "code",
   "execution_count": null,
   "metadata": {
    "collapsed": true
   },
   "outputs": [],
   "source": [
    "xrange = np.arange(X_train.min(), X_train.max() + 1)\n",
    "fig, ax = plt.subplots()\n",
    "ax.plot(X_train[arange])"
   ]
  },
  {
   "cell_type": "markdown",
   "metadata": {},
   "source": [
    "### Define a model for X2\n",
    "Assuming BetaBinomial, discrete distribution with support over positive integers\n",
    "The model for X2 will be a Bayesian Neural Net conditioned on the value of X1\n",
    "The prior for the X2's support \\{0..n\\}  and it's alpha and beta are dependent on X1"
   ]
  },
  {
   "cell_type": "code",
   "execution_count": null,
   "metadata": {
    "collapsed": true
   },
   "outputs": [],
   "source": [
    "ntrain = len(X_train)\n",
    "\n",
    "#Construct the NN\n",
    "def construct_nn(nn_in, nn_out):\n",
    "    n_hidden = 5\n",
    "    init_1 = np.random.randn(1, n_hidden).astype(theano.config.floatX)\n",
    "    init_2 = np.random.randn(n_hidden, n_hidden).astype(theano.config.floatX)\n",
    "    init_3 = np.random.randn(n_hidden, 1).astype(theano.config.floatX)\n",
    "    \n",
    "    with pm.Model() as bnn:\n",
    "        a = pm.Uniform('a', lower=0.4, upper=5.)\n",
    "        b = pm.Uniform('b', lower=2., upper=8.)\n",
    "        c = pm.Uniform('c', lower=1., upper=60.)\n",
    "        \n",
    "        weights_1 = pm.Normal('w_1', mu=0, sd=1, shape=(1, n_hidden), testval=init_1)\n",
    "        weights_2 = pm.Normal('w_2', mu=0, sd=1, shape=(n_hidden, n_hidden), testval=init_2)\n",
    "        weights_3 = pm.Normal('w_3', mu=0, sd=1, shape=(n_hidden, 1), testval=init_3)\n",
    "        \n",
    "        #Activations\n",
    "        act_1 = pm.math.tanh(pm.math.dot(nn_in, weights_1))\n",
    "        act_2 = pm.math.tanh(pm.math.dot(act_1, weights_2))\n",
    "        act_3 = pm.math.sigmoid(pm.math.dot(act_2, weights_3))\n",
    "        \n",
    "        print(\"{}, {}, {},\".format(act_3.tag.test_value.shape, act_3.shape, type(act_3)))\n",
    "        print(\"{}\".format(act_3.tag.test_value[:,0].mean()))\n",
    "#         print(\"{}\".format(act_3.tag.test_value[:,1].mean()))\n",
    "#         print(\"{}\".format(act_3.tag.test_value[:,2].mean()))\n",
    "#         a = pm.Deterministic('a', act_3.tag.test_value[:,0].mean())\n",
    "#         b = pm.Deterministic('b', act_3.tag.test_value[:,1].mean())\n",
    "#         c = pm.Deterministic('c', act_3.tag.test_value[:,2].mean())\n",
    "        out = pm.BetaBinomial('x2pred', \n",
    "                              alpha=a, \n",
    "                              beta=b,\n",
    "                              n=tt.round(c),\n",
    "                              observed=nn_out, \n",
    "                              total_size=ntrain)\n",
    "        \n",
    "    return bnn"
   ]
  },
  {
   "cell_type": "markdown",
   "metadata": {},
   "source": [
    "### Fit the model to data (Inference)\n",
    "Uses ADVI to compute the posterior distribution of parameters"
   ]
  },
  {
   "cell_type": "code",
   "execution_count": null,
   "metadata": {
    "collapsed": true
   },
   "outputs": [],
   "source": [
    "nn_in = theano.shared(X_train)\n",
    "nn_out = theano.shared(y_train)\n",
    "bnn = construct_nn(nn_in, nn_out)\n",
    "with bnn:\n",
    "    # inference = pm.ADVI()\n",
    "    approx = pm.sample(1000)"
   ]
  },
  {
   "cell_type": "code",
   "execution_count": null,
   "metadata": {
    "collapsed": true
   },
   "outputs": [],
   "source": [
    "with bnn:\n",
    "    pm.plot_posterior(approx)\n"
   ]
  },
  {
   "cell_type": "code",
   "execution_count": null,
   "metadata": {
    "collapsed": true
   },
   "outputs": [],
   "source": []
  },
  {
   "cell_type": "code",
   "execution_count": null,
   "metadata": {
    "collapsed": true
   },
   "outputs": [],
   "source": []
  },
  {
   "cell_type": "markdown",
   "metadata": {},
   "source": [
    "# Miscellaneous\n",
    "## A Zero Truncated Poisson\n",
    "__Custom Probability Distribution in PyMC3__"
   ]
  },
  {
   "cell_type": "code",
   "execution_count": null,
   "metadata": {
    "collapsed": true
   },
   "outputs": [],
   "source": [
    "import theano.tensor as tt\n",
    "from theano import function\n",
    "from theano import printing\n",
    "import pymc3 as pm\n",
    "\n",
    "class ZeroTruncatedPoisson(pm.Discrete):\n",
    "    '''\n",
    "    Similar to a Poisson distribution, but the support is over positive integes \n",
    "    and so, excludes zero. An example, number of items in your grocery shopping cart\n",
    "    at checkout\n",
    "    '''\n",
    "    def __init__(self, mu, *args, **kwargs):\n",
    "        super(ZeroTruncatedPoisson, self).__init__(*args, **kwargs)\n",
    "        self.mu = tt.as_tensor_variable(mu)\n",
    "    \n",
    "    def logp(self, value):\n",
    "        '''\n",
    "        compute total_log_probability\n",
    "        '''\n",
    "        return tt.sum(value * tt.log(self.mu) - tt.log(tt.exp(self.mu) -1) - tt.gammaln(value))\n",
    "    \n",
    "    def random(self, point=None, size=None):\n",
    "        '''\n",
    "        Generates a random sample from Zero Truncated Poisson\n",
    "        '''\n",
    "        k = 1\n",
    "        mu = self.mu.tag.test_value\n",
    "        t = tt.exp(-self.mu)/(1 - tt.exp(-self.mu))/(1. * self.mu)\n",
    "        tn = t.tag.test_value\n",
    "        s = tn\n",
    "        u = np.random.uniform()\n",
    "        while s < u:\n",
    "            k = k + 1\n",
    "            tn = tn * mu / k\n",
    "            s = s + tn\n",
    "            u = np.random.uniform()\n",
    "        return k"
   ]
  },
  {
   "cell_type": "code",
   "execution_count": null,
   "metadata": {
    "collapsed": true
   },
   "outputs": [],
   "source": [
    "# If using a ZeroTruncatedPoisson\n",
    "# obs = df_train['x1']\n",
    "# with pm.Model() as zmodel:\n",
    "#     mu = pm.HalfNormal('mu', sd=10.)\n",
    "#     zp_poisson = ZeroTruncatedPoisson('zp', mu=mu, observed=obs)\n",
    "#     ztrace = pm.sample(1000)\n",
    "#     pm.plot_posterior(ztrace)\n"
   ]
  },
  {
   "cell_type": "code",
   "execution_count": null,
   "metadata": {
    "collapsed": true
   },
   "outputs": [],
   "source": [
    "import numpy as np\n",
    "import theano.tensor as tt\n",
    "from theano import function\n",
    "#tt.config.compute_test_value = \n",
    "x = tt.dscalar('x')\n",
    "y = tt.dscalar('y')\n",
    "z = x + y\n",
    "tt.pprint(z)\n",
    "add = function([x, y], z)\n",
    "n1 = add(402., 1)\n",
    "type(n1)\n",
    "#n1\n",
    "with pm.Model() as mmodel:\n",
    "    a1 = \n",
    "    w1 = pm.Normal('w1', mu=0., sd=1., shape=(1, 2))\n",
    "    a2 = pm.math.dot(a1, w1)\n"
   ]
  },
  {
   "cell_type": "code",
   "execution_count": null,
   "metadata": {
    "collapsed": true
   },
   "outputs": [],
   "source": [
    "k = np.array([1,2,1,1,1,1,1,1,1,1,1,1,1,1,1,1,1,1,1,1,1,1,1,1,1,1,1,1,1,1,48,1])\n",
    "import theano.tensor as tt\n",
    "def ztp_logp(k):\n",
    "    return tt.sum(k * tt.log(lam) - tt.log(tt.exp(lam) - 1) - tt.gammaln(k))\n",
    "\n",
    "ztp_logp(k)\n"
   ]
  },
  {
   "cell_type": "code",
   "execution_count": null,
   "metadata": {
    "collapsed": true
   },
   "outputs": [],
   "source": [
    "vm1 = np.random.randn(1, 5).astype(theano.config.floatX)\n",
    "type(vm1)\n",
    "#vm1.shape\n",
    "vm2= halfnorm.rvs(size=(1,5)).astype(theano.config.floatX)\n",
    "type(vm2)\n",
    "vm2.shape\n",
    "X_train[0].shape\n",
    "nn_in.shape\n"
   ]
  },
  {
   "cell_type": "markdown",
   "metadata": {},
   "source": [
    "### Define the neural network"
   ]
  },
  {
   "cell_type": "markdown",
   "metadata": {},
   "source": [
    "### Plot the posterior parameter distribution from 5000 samples"
   ]
  },
  {
   "cell_type": "code",
   "execution_count": null,
   "metadata": {
    "collapsed": true
   },
   "outputs": [],
   "source": [
    "with bnn:\n",
    "    trace = approx.sample(draws=5000)\n",
    "    pm.traceplot(trace)"
   ]
  },
  {
   "cell_type": "markdown",
   "metadata": {},
   "source": [
    "### Plot the learnt boundary against training data"
   ]
  },
  {
   "cell_type": "code",
   "execution_count": null,
   "metadata": {
    "collapsed": true
   },
   "outputs": [],
   "source": [
    "with bnn:\n",
    "    rpc = pm.sample_ppc(trace, 500)\n",
    "    rpred = rpc['Category'].mean(axis=0)\n",
    "    #rproba = rpc['Category'].std(axis=0)\n",
    "    fig, ax = plt.subplots()\n",
    "    ax.scatter(X_train[rpred > 0.5], rpred[rpred > 0.5], color='b', alpha=0.01)\n",
    "    ax.scatter(X_train[rpred <= 0.5], rpred[rpred <= 0.5], color='r', alpha=0.01)\n",
    "    ax.scatter(X_train[y_train], y_train[y_train], color='g', alpha=0.01)\n",
    "    ax.scatter(X_train[~y_train], y_train[~y_train], color='k', alpha=0.01)"
   ]
  },
  {
   "cell_type": "markdown",
   "metadata": {},
   "source": [
    "#### Plot the Evidence Lower Bound (ELBO) maximization history"
   ]
  },
  {
   "cell_type": "code",
   "execution_count": null,
   "metadata": {
    "collapsed": true
   },
   "outputs": [],
   "source": [
    "with bnn:\n",
    "    plt.plot(-inference.hist, label='ADVI', color='b', alpha=0.4)\n",
    "    plt.xlabel('Iteration')\n",
    "    plt.ylabel('ELBO')"
   ]
  },
  {
   "cell_type": "markdown",
   "metadata": {},
   "source": [
    "**__What is the functional form of the neural net?__**\n",
    "<p>\n",
    "The neural net computes the probability parameter of a Bernoulli distribution based on a series of non-linearities and affine transformations of the input"
   ]
  },
  {
   "cell_type": "code",
   "execution_count": null,
   "metadata": {
    "collapsed": true
   },
   "outputs": [],
   "source": [
    "bnn.Category.distribution"
   ]
  },
  {
   "cell_type": "markdown",
   "metadata": {},
   "source": [
    "### Now time to predict (Posterior Predictive Check) "
   ]
  },
  {
   "cell_type": "code",
   "execution_count": null,
   "metadata": {
    "collapsed": true
   },
   "outputs": [],
   "source": [
    "nn_in.set_value(X_test)\n",
    "nn_out.set_value(y_test)\n",
    "with bnn:\n",
    "    ppc = pm.sample_ppc(trace, 500)\n",
    "    pred = ppc['Category'].mean(axis=0)\n",
    "    proba = ppc['Category'].std(axis=0)"
   ]
  },
  {
   "cell_type": "markdown",
   "metadata": {},
   "source": [
    "### Plot the predictions"
   ]
  },
  {
   "cell_type": "code",
   "execution_count": null,
   "metadata": {
    "collapsed": true
   },
   "outputs": [],
   "source": [
    "fig, ax = plt.subplots()\n",
    "ax.scatter(X_test[pred > 0.5], pred[pred > 0.5])\n",
    "ax.scatter(X_test[pred <= 0.5], pred[pred <= 0.5], color='r', alpha=0.2)\n",
    "ax.scatter(X_test[y_test], y_test[y_test], color='c', alpha=0.1)\n",
    "ax.scatter(X_test[~y_test], y_test[~y_test], color='c', alpha=0.1)\n",
    "\n",
    "print('Accuracy: {}'.format( ( y_test == (pred > 0.5) ).mean() * 100 ))"
   ]
  },
  {
   "cell_type": "markdown",
   "metadata": {},
   "source": [
    "### Confusion Matrix"
   ]
  },
  {
   "cell_type": "code",
   "execution_count": null,
   "metadata": {
    "collapsed": true
   },
   "outputs": [],
   "source": [
    "from sklearn.metrics import confusion_matrix\n",
    "cm = [ 1 if x > 0.5 else 0 for x in pred ]\n",
    "cnf = confusion_matrix(cm, y_test)\n",
    "sns.heatmap(cnf, annot=True, fmt='d', cmap='PiYG')"
   ]
  },
  {
   "cell_type": "code",
   "execution_count": null,
   "metadata": {
    "collapsed": true
   },
   "outputs": [],
   "source": [
    "cnf"
   ]
  },
  {
   "cell_type": "markdown",
   "metadata": {},
   "source": [
    "### Now the uncertainty in prediction"
   ]
  },
  {
   "cell_type": "code",
   "execution_count": null,
   "metadata": {
    "collapsed": true
   },
   "outputs": [],
   "source": [
    "fig, ax = plt.subplots(figsize=(10, 5))\n",
    "ax.errorbar(X_test[pred > 0.5], pred[pred > 0.5], yerr = proba[pred > 0.5], fmt='o', ecolor='g', capthick=2, alpha=0.1)\n",
    "ax.errorbar(X_test[pred <= 0.5], pred[pred <= 0.5], yerr = proba[pred <= 0.5], \n",
    "            fmt='o', ecolor='r', color='y', capthick=2, alpha=0.1)"
   ]
  },
  {
   "cell_type": "markdown",
   "metadata": {},
   "source": [
    "## Comparison to a Gaussian Process classifier"
   ]
  },
  {
   "cell_type": "code",
   "execution_count": null,
   "metadata": {
    "collapsed": true
   },
   "outputs": [],
   "source": [
    "%%time\n",
    "from sklearn.gaussian_process import GaussianProcessClassifier\n",
    "from sklearn.gaussian_process.kernels import RBF\n",
    "\n",
    "gp_clf = GaussianProcessClassifier(1.0 * RBF(1.0))\n",
    "nsize=1000\n",
    "gp_clf.fit(X_train[:nsize,:], y_train[:nsize,:])\n",
    "#clf.fit(X_train, y_train)"
   ]
  },
  {
   "cell_type": "markdown",
   "metadata": {},
   "source": [
    "**__Phew.... that took for ever. Especially in comparison to BNN__**"
   ]
  },
  {
   "cell_type": "code",
   "execution_count": null,
   "metadata": {
    "collapsed": true
   },
   "outputs": [],
   "source": [
    "%%time\n",
    "print gp_clf.score(X_test, y_test)\n",
    "xx = np.arange(1,70)\n",
    "pp = gp_clf.predict_proba(xx.reshape(-1,1))\n",
    "fig, ax = plt.subplots()\n",
    "ax.scatter(xx, pp[:,1], color='r')"
   ]
  },
  {
   "cell_type": "markdown",
   "metadata": {},
   "source": [
    "## Compare to a random forest classifier"
   ]
  },
  {
   "cell_type": "code",
   "execution_count": null,
   "metadata": {
    "collapsed": true
   },
   "outputs": [],
   "source": [
    "%%time\n",
    "from sklearn.ensemble import RandomForestClassifier\n",
    "\n",
    "rf_clf = RandomForestClassifier(max_depth=5, n_estimators=10, max_features=1)\n",
    "rf_clf.fit(X_train, y_train)"
   ]
  },
  {
   "cell_type": "code",
   "execution_count": null,
   "metadata": {
    "collapsed": true
   },
   "outputs": [],
   "source": [
    "%%time\n",
    "print (rf_clf.score(X_test, y_test))\n",
    "xx = np.arange(1,70)\n",
    "pp = rf_clf.predict_proba(xx.reshape(-1,1))\n",
    "fig, ax = plt.subplots()\n",
    "ax.scatter(xx, pp[:,1], color='r')"
   ]
  },
  {
   "cell_type": "markdown",
   "metadata": {},
   "source": [
    "## Compare to AdaBoosted Decision Trees"
   ]
  },
  {
   "cell_type": "code",
   "execution_count": null,
   "metadata": {
    "collapsed": true
   },
   "outputs": [],
   "source": [
    "%%time\n",
    "from sklearn.ensemble import AdaBoostClassifier\n",
    "ad_clf = AdaBoostClassifier()\n",
    "ad_clf.fit(X_train, y_train)"
   ]
  },
  {
   "cell_type": "code",
   "execution_count": null,
   "metadata": {
    "collapsed": true
   },
   "outputs": [],
   "source": [
    "%%time\n",
    "print (ad_clf.score(X_test, y_test))\n",
    "xx = np.arange(1, 70)\n",
    "pp = ad_clf.predict_proba(xx.reshape(-1,1))\n",
    "fig, ax = plt.subplots()\n",
    "ax.scatter(xx, pp[:,1], color='r')"
   ]
  },
  {
   "cell_type": "markdown",
   "metadata": {},
   "source": [
    "## Miscellaneous"
   ]
  },
  {
   "cell_type": "code",
   "execution_count": null,
   "metadata": {
    "collapsed": true
   },
   "outputs": [],
   "source": [
    "with pm.Model():\n",
    "    bs = pm.BetaBinomial('betasample', alpha=3., beta=4., n=50)\n",
    "    bstrace = pm.sample(10000)\n",
    "    pm.plot_posterior(bstrace)"
   ]
  },
  {
   "cell_type": "code",
   "execution_count": null,
   "metadata": {
    "collapsed": true
   },
   "outputs": [],
   "source": [
    "sns.distplot(df_train['x6'])"
   ]
  }
 ],
 "metadata": {
  "kernelspec": {
   "display_name": "Python 3",
   "language": "python",
   "name": "python3"
  },
  "language_info": {
   "codemirror_mode": {
    "name": "ipython",
    "version": 3
   },
   "file_extension": ".py",
   "mimetype": "text/x-python",
   "name": "python",
   "nbconvert_exporter": "python",
   "pygments_lexer": "ipython3",
   "version": "3.6.0"
  }
 },
 "nbformat": 4,
 "nbformat_minor": 1
}

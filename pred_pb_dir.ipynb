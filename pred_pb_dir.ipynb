{
 "cells": [
  {
   "cell_type": "markdown",
   "metadata": {},
   "source": [
    "# Density estimation\n",
    "Use powerball dataset"
   ]
  },
  {
   "cell_type": "code",
   "execution_count": 1,
   "metadata": {},
   "outputs": [],
   "source": [
    "%matplotlib inline\n",
    "import theano\n",
    "import pymc3 as pm\n",
    "import sklearn\n",
    "import numpy as np\n",
    "import matplotlib.pyplot as plt\n",
    "import seaborn as sns\n",
    "from warnings import filterwarnings\n",
    "filterwarnings('ignore')\n",
    "sns.set_style('white')\n",
    "from sklearn import datasets\n",
    "from sklearn.preprocessing import scale\n",
    "from sklearn.model_selection import train_test_split\n",
    "import theano.tensor as tt\n",
    "import pandas as pd\n",
    "import scipy as sp"
   ]
  },
  {
   "cell_type": "markdown",
   "metadata": {},
   "source": [
    "## Load dataset\n",
    "Peek into the data - curiosity helps build intuition\n",
    "Intuition yields a prior (required for probabilistic modeling).\n"
   ]
  },
  {
   "cell_type": "code",
   "execution_count": 2,
   "metadata": {},
   "outputs": [
    {
     "data": {
      "text/html": [
       "<div>\n",
       "<style scoped>\n",
       "    .dataframe tbody tr th:only-of-type {\n",
       "        vertical-align: middle;\n",
       "    }\n",
       "\n",
       "    .dataframe tbody tr th {\n",
       "        vertical-align: top;\n",
       "    }\n",
       "\n",
       "    .dataframe thead th {\n",
       "        text-align: right;\n",
       "    }\n",
       "</style>\n",
       "<table border=\"1\" class=\"dataframe\">\n",
       "  <thead>\n",
       "    <tr style=\"text-align: right;\">\n",
       "      <th></th>\n",
       "      <th>x1</th>\n",
       "      <th>x2</th>\n",
       "      <th>x3</th>\n",
       "      <th>x4</th>\n",
       "      <th>x5</th>\n",
       "      <th>x6</th>\n",
       "    </tr>\n",
       "  </thead>\n",
       "  <tbody>\n",
       "    <tr>\n",
       "      <th>0</th>\n",
       "      <td>16</td>\n",
       "      <td>30</td>\n",
       "      <td>41</td>\n",
       "      <td>48</td>\n",
       "      <td>53</td>\n",
       "      <td>16</td>\n",
       "    </tr>\n",
       "    <tr>\n",
       "      <th>1</th>\n",
       "      <td>1</td>\n",
       "      <td>26</td>\n",
       "      <td>41</td>\n",
       "      <td>50</td>\n",
       "      <td>57</td>\n",
       "      <td>11</td>\n",
       "    </tr>\n",
       "    <tr>\n",
       "      <th>2</th>\n",
       "      <td>23</td>\n",
       "      <td>33</td>\n",
       "      <td>42</td>\n",
       "      <td>46</td>\n",
       "      <td>59</td>\n",
       "      <td>4</td>\n",
       "    </tr>\n",
       "    <tr>\n",
       "      <th>3</th>\n",
       "      <td>2</td>\n",
       "      <td>18</td>\n",
       "      <td>19</td>\n",
       "      <td>22</td>\n",
       "      <td>63</td>\n",
       "      <td>19</td>\n",
       "    </tr>\n",
       "    <tr>\n",
       "      <th>4</th>\n",
       "      <td>10</td>\n",
       "      <td>16</td>\n",
       "      <td>40</td>\n",
       "      <td>52</td>\n",
       "      <td>55</td>\n",
       "      <td>17</td>\n",
       "    </tr>\n",
       "  </tbody>\n",
       "</table>\n",
       "</div>"
      ],
      "text/plain": [
       "   x1  x2  x3  x4  x5  x6\n",
       "0  16  30  41  48  53  16\n",
       "1   1  26  41  50  57  11\n",
       "2  23  33  42  46  59   4\n",
       "3   2  18  19  22  63  19\n",
       "4  10  16  40  52  55  17"
      ]
     },
     "execution_count": 2,
     "metadata": {},
     "output_type": "execute_result"
    }
   ],
   "source": [
    "df = pd.read_csv('./pb/pb_asc_x1x5_x6.csv', header=None, names=['x1', 'x2', 'x3', 'x4', 'x5', 'x6'])\n",
    "df.head()"
   ]
  },
  {
   "cell_type": "code",
   "execution_count": 3,
   "metadata": {},
   "outputs": [
    {
     "data": {
      "text/plain": [
       "<matplotlib.axes._subplots.AxesSubplot at 0x268a8310f98>"
      ]
     },
     "execution_count": 3,
     "metadata": {},
     "output_type": "execute_result"
    },
    {
     "data": {
      "image/png": "[encoded data removed]",
      "text/plain": [
       "<matplotlib.figure.Figure at 0x268a27de320>"
      ]
     },
     "metadata": {},
     "output_type": "display_data"
    }
   ],
   "source": [
    "df['x1'].hist()"
   ]
  },
  {
   "cell_type": "markdown",
   "metadata": {},
   "source": [
    "### The Model\n",
    "Assume x1 is given for x2, and so on\n",
    "For x1, we estimate the density and pick the MAP "
   ]
  },
  {
   "cell_type": "code",
   "execution_count": 4,
   "metadata": {},
   "outputs": [
    {
     "data": {
      "text/latex": [
       "\\begin{align}\n",
       "\\alpha \\sim \\Gamma(1,1) \\\\\n",
       "\\beta_1...\\beta_K \\sim \\beta(1, \\alpha) \\\\\n",
       "w_i = \\beta_i \\prod_{j=1}^{i-1}(1-\\beta_j) \\\\\n",
       "a_i \\sim U(0,50) \\\\\n",
       "b_i \\sim U(0,50) \\\\\n",
       "\\lambda_i = a_i * x_1 + b_i \\\\\n",
       "x_2 \\sim \\sum_{}^{}w_i Pois(\\lambda_i)\\\\\n",
       "\\end{align}"
      ],
      "text/plain": [
       "<IPython.core.display.Latex object>"
      ]
     },
     "metadata": {},
     "output_type": "display_data"
    }
   ],
   "source": [
    "%%latex\n",
    "\\begin{align}\n",
    "\\alpha \\sim \\Gamma(1,1) \\\\\n",
    "\\beta_1...\\beta_K \\sim \\beta(1, \\alpha) \\\\\n",
    "w_i = \\beta_i \\prod_{j=1}^{i-1}(1-\\beta_j) \\\\\n",
    "a_i \\sim U(0,50) \\\\\n",
    "b_i \\sim U(0,50) \\\\\n",
    "\\lambda_i = a_i * x_1 + b_i \\\\\n",
    "x_2 \\sim \\sum_{}^{}w_i Pois(\\lambda_i)\\\\\n",
    "\\end{align}"
   ]
  },
  {
   "cell_type": "code",
   "execution_count": 5,
   "metadata": {},
   "outputs": [],
   "source": [
    "SEED=5132290\n",
    "K = 30\n",
    "#x1 = df['x1'].values\n",
    "def stick_breaking(beta):\n",
    "    portion_remaining = tt.concatenate([[1], tt.extra_ops.cumprod(1-beta)[:-1]])\n",
    "    return beta * portion_remaining\n"
   ]
  },
  {
   "cell_type": "code",
   "execution_count": 6,
   "metadata": {},
   "outputs": [],
   "source": [
    "\n",
    "with pm.Model() as model:\n",
    "    alpha = pm.Gamma('alpha', 1, 1)\n",
    "    beta = pm.Beta('beta', 1, alpha, shape=K)\n",
    "    w = pm.Deterministic('w', stick_breaking(beta))\n",
    "    #a = pm.Uniform('a', 0, 50, shape=K)\n",
    "    #b = pm.Uniform('b', 0, 50, shape=K)\n",
    "    mu = pm.Uniform('mu', 0, 50, shape=K)\n",
    "    bp = [pm.Bound(pm.Poisson, lower=1).dist(mu=mu[i]) for i in range(K)] \n",
    "    #x = pm.Mixture('obs', w, pm.Poisson.dist(mu), observed=df['x1'].values)\n",
    "    x = pm.Mixture('obs', w, bp, observed=df['x1'].values)\n"
   ]
  },
  {
   "cell_type": "code",
   "execution_count": 7,
   "metadata": {
    "scrolled": true
   },
   "outputs": [
    {
     "name": "stderr",
     "output_type": "stream",
     "text": [
      "Auto-assigning NUTS sampler...\n",
      "Initializing NUTS using jitter+adapt_diag...\n",
      "100%|██████████████████████████████████████████████████████████████████████████████| 1500/1500 [32:22<00:00,  1.30s/it]\n"
     ]
    }
   ],
   "source": [
    "with model:\n",
    "    trace = pm.sample(1000, random_seed=SEED)"
   ]
  },
  {
   "cell_type": "code",
   "execution_count": 8,
   "metadata": {},
   "outputs": [
    {
     "data": {
      "image/png": "[encoded data removed]",
      "text/plain": [
       "<matplotlib.figure.Figure at 0x268afe36d30>"
      ]
     },
     "metadata": {},
     "output_type": "display_data"
    }
   ],
   "source": [
    "with model:\n",
    "    pm.traceplot(trace, varnames=['alpha'])"
   ]
  },
  {
   "cell_type": "code",
   "execution_count": 19,
   "metadata": {},
   "outputs": [
    {
     "data": {
      "text/plain": [
       "Text(0,0.5,'Mixture weight')"
      ]
     },
     "execution_count": 19,
     "metadata": {},
     "output_type": "execute_result"
    },
    {
     "data": {
      "image/png": "[encoded data removed]",
      "text/plain": [
       "<matplotlib.figure.Figure at 0x268ad978978>"
      ]
     },
     "metadata": {},
     "output_type": "display_data"
    }
   ],
   "source": [
    "plot_w = np.arange(K) + 1\n",
    "fig, ax = plt.subplots(figsize=(8,6))\n",
    "#ax.hist(df['x2'].values, alpha=0.2, color='blue', normed=True)\n",
    "ax.plot(plot_w-0.5, trace['w'].mean(axis=0) )\n",
    "ax.plot(plot_w-0.5, np.cumsum(trace['w'].mean(axis=0)))\n",
    "ax.set_xlim(.5, K)\n",
    "ax.set_ylabel('Mixture weight')"
   ]
  },
  {
   "cell_type": "code",
   "execution_count": 17,
   "metadata": {},
   "outputs": [
    {
     "data": {
      "text/plain": [
       "array([ 0.22633568,  0.42678142,  0.67452541,  0.80946452,  0.89134582,\n",
       "        0.94197969,  0.96830665,  0.98363949,  0.99097507,  0.99472285,\n",
       "        0.99684319,  0.99811782,  0.99874717,  0.99923566,  0.99952642,\n",
       "        0.99969518,  0.99982908,  0.99988969,  0.9999269 ,  0.99995471,\n",
       "        0.99997296,  0.99998321,  0.99998925,  0.99999358,  0.99999582,\n",
       "        0.99999755,  0.99999851,  0.99999919,  0.99999943,  0.99999968])"
      ]
     },
     "execution_count": 17,
     "metadata": {},
     "output_type": "execute_result"
    }
   ],
   "source": [
    "np.cumsum(trace['w'].mean(axis=0))"
   ]
  },
  {
   "cell_type": "code",
   "execution_count": 80,
   "metadata": {},
   "outputs": [
    {
     "data": {
      "text/plain": [
       "((500, 50), (500, 30), (3, 50), (500, 30))"
      ]
     },
     "execution_count": 80,
     "metadata": {},
     "output_type": "execute_result"
    }
   ],
   "source": [
    "x_plot = np.arange(50) #Range of values of x1\n",
    "#Create the set of Poisson distributions with means 'mu'\n",
    "pmf_contribs = sp.stats.poisson.pmf(np.atleast_3d(x_plot), trace['mu'][:, np.newaxis, :])\n",
    "\n",
    "#Multiply each distribution by its weight\n",
    "wt_pmfs = (trace['w'][:, np.newaxis, :] * pmf_contribs).sum(axis=-1)\n",
    "#trace['mu'].shape, x_plot.shape,np.atleast_3d(x_plot).shape, pmf_contribs.shape, pmfs.shape\n",
    "wt_pmfs.shape, trace['mu'].shape, wt_pmfs[::200].shape, pmf_contribs.mean(axis=1).shape"
   ]
  },
  {
   "cell_type": "code",
   "execution_count": 72,
   "metadata": {},
   "outputs": [
    {
     "data": {
      "text/plain": [
       "[<matplotlib.lines.Line2D at 0x21681b00f60>]"
      ]
     },
     "execution_count": 72,
     "metadata": {},
     "output_type": "execute_result"
    },
    {
     "data": {
      "image/png": "[encoded data removed]",
      "text/plain": [
       "<matplotlib.figure.Figure at 0x21681ab9c50>"
      ]
     },
     "metadata": {},
     "output_type": "display_data"
    }
   ],
   "source": [
    "fig, ax = plt.subplots(figsize=(8,6))\n",
    "ax.hist(df['x1'].values, bins=54, alpha=0.2,normed=True)\n",
    "#ax.plot(x_plot, wt_pmfs[0])\n",
    "ax.plot(x_plot, wt_pmfs.mean(axis=0))\n",
    "#ax.plot(x_plot, wt_pmfs[::200].T, color='orange')"
   ]
  },
  {
   "cell_type": "code",
   "execution_count": 86,
   "metadata": {},
   "outputs": [
    {
     "data": {
      "text/plain": [
       "((500, 30), (500,), (500, 30))"
      ]
     },
     "execution_count": 86,
     "metadata": {},
     "output_type": "execute_result"
    }
   ],
   "source": [
    "pmf_contribs.mean(axis=1).shape, wt_pmfs.mean(axis=1).shape, trace['mu'].shape"
   ]
  },
  {
   "cell_type": "code",
   "execution_count": 108,
   "metadata": {},
   "outputs": [
    {
     "name": "stderr",
     "output_type": "stream",
     "text": [
      "100%|███████████████████████████████████████████████████████████████████████████| 10000/10000 [00:23<00:00, 417.31it/s]\n"
     ]
    },
    {
     "data": {
      "image/png": "[encoded data removed]",
      "text/plain": [
       "<matplotlib.figure.Figure at 0x21681bd3128>"
      ]
     },
     "metadata": {},
     "output_type": "display_data"
    }
   ],
   "source": [
    "with model:\n",
    "    ppc = pm.sample_ppc(trace, 10000)\n",
    "    fig, ax = plt.subplots(figsize=(8,6))\n",
    "    ax.hist(ppc['obs'], bins=50, normed=True, alpha=0.3, color='green', label='Posterior predictions')\n",
    "    ax.hist(df['x1'], bins=50, normed=True, alpha=0.3, label='Training data')\n",
    "    ax.legend(loc=1)"
   ]
  },
  {
   "cell_type": "code",
   "execution_count": 106,
   "metadata": {},
   "outputs": [
    {
     "data": {
      "text/plain": [
       "((5000,), (2022,))"
      ]
     },
     "execution_count": 106,
     "metadata": {},
     "output_type": "execute_result"
    }
   ],
   "source": [
    "ppc['obs'].shape, df['x1'].shape"
   ]
  },
  {
   "cell_type": "code",
   "execution_count": 109,
   "metadata": {
    "scrolled": true
   },
   "outputs": [
    {
     "data": {
      "text/plain": [
       "(0.050563309473876605, 0.15680603363006945)"
      ]
     },
     "execution_count": 109,
     "metadata": {},
     "output_type": "execute_result"
    }
   ],
   "source": [
    "from scipy.stats import wasserstein_distance, energy_distance \n",
    "energy_distance(ppc['obs'], df['x1']), wasserstein_distance(ppc['obs'], df['x1'])"
   ]
  },
  {
   "cell_type": "markdown",
   "metadata": {},
   "source": [
    "### Trials and tribulations\n",
    "Do a conda install pydot, graphviz\n",
    "Then, Add the path to dot.exe under graphviz (under Anaconda) to your system PATH variable\n",
    "Then the following SVG call might work"
   ]
  },
  {
   "cell_type": "code",
   "execution_count": 9,
   "metadata": {},
   "outputs": [
    {
     "name": "stdout",
     "output_type": "stream",
     "text": [
      "<TensorType(float64, scalar)>\n",
      "<TensorType(float64, scalar)> [id A]\n",
      "Elemwise{add,no_inplace} [id A] ''   \n",
      " |Elemwise{mul,no_inplace} [id B] ''   \n",
      " | |TensorConstant{3} [id C]\n",
      " | |Elemwise{pow,no_inplace} [id D] ''   \n",
      " |   |<TensorType(float64, scalar)> [id E]\n",
      " |   |TensorConstant{2} [id F]\n",
      " |TensorConstant{1} [id G]\n"
     ]
    },
    {
     "data": {
      "image/svg+xml": [
       "<svg height=\"378pt\" viewBox=\"0.00 0.00 677.00 378.00\" width=\"677pt\" xmlns=\"http://www.w3.org/2000/svg\" xmlns:xlink=\"http://www.w3.org/1999/xlink\">\n",
       "<g class=\"graph\" id=\"graph0\" transform=\"scale(1 1) rotate(0) translate(4 374)\">\n",
       "<title>G</title>\n",
       "<polygon fill=\"white\" points=\"-4,4 -4,-374 673,-374 673,4 -4,4\" stroke=\"none\"/>\n",
       "<!-- 2649837570032 -->\n",
       "<g class=\"node\" id=\"node1\"><title>2649837570032</title>\n",
       "<ellipse cx=\"475.5\" cy=\"-265\" fill=\"#ffaabb\" rx=\"111.581\" ry=\"18\" stroke=\"black\"/>\n",
       "<text font-family=\"Times New Roman,serif\" font-size=\"14.00\" text-anchor=\"middle\" x=\"475.5\" y=\"-261.3\">Elemwise{pow,no_inplace}</text>\n",
       "</g>\n",
       "<!-- 2649837569976 -->\n",
       "<g class=\"node\" id=\"node4\"><title>2649837569976</title>\n",
       "<ellipse cx=\"315.5\" cy=\"-178\" fill=\"#ffaabb\" rx=\"108.581\" ry=\"18\" stroke=\"black\"/>\n",
       "<text font-family=\"Times New Roman,serif\" font-size=\"14.00\" text-anchor=\"middle\" x=\"315.5\" y=\"-174.3\">Elemwise{mul,no_inplace}</text>\n",
       "</g>\n",
       "<!-- 2649837570032&#45;&gt;2649837569976 -->\n",
       "<g class=\"edge\" id=\"edge4\"><title>2649837570032-&gt;2649837569976</title>\n",
       "<path d=\"M444.65,-247.611C419.196,-234.088 382.901,-214.807 355.267,-200.126\" fill=\"none\" stroke=\"black\"/>\n",
       "<polygon fill=\"black\" points=\"356.728,-196.939 346.255,-195.339 353.444,-203.121 356.728,-196.939\" stroke=\"black\"/>\n",
       "<text font-family=\"Times New Roman,serif\" font-size=\"14.00\" text-anchor=\"middle\" x=\"488\" y=\"-217.8\">1 TensorType(float64, scalar)</text>\n",
       "</g>\n",
       "<!-- 2649835921080 -->\n",
       "<g class=\"node\" id=\"node2\"><title>2649835921080</title>\n",
       "<polygon fill=\"green\" points=\"462,-370 289,-370 289,-334 462,-334 462,-370\" stroke=\"black\"/>\n",
       "<text font-family=\"Times New Roman,serif\" font-size=\"14.00\" text-anchor=\"middle\" x=\"375.5\" y=\"-348.3\">TensorType(float64, scalar)</text>\n",
       "</g>\n",
       "<!-- 2649835921080&#45;&gt;2649837570032 -->\n",
       "<g class=\"edge\" id=\"edge1\"><title>2649835921080-&gt;2649837570032</title>\n",
       "<path d=\"M395.736,-333.799C410.744,-321.042 431.377,-303.504 447.898,-289.462\" fill=\"none\" stroke=\"black\"/>\n",
       "<polygon fill=\"black\" points=\"450.282,-292.029 455.635,-282.885 445.749,-286.695 450.282,-292.029\" stroke=\"black\"/>\n",
       "<text font-family=\"Times New Roman,serif\" font-size=\"14.00\" text-anchor=\"middle\" x=\"434\" y=\"-304.8\">0</text>\n",
       "</g>\n",
       "<!-- 2649835918280 -->\n",
       "<g class=\"node\" id=\"node3\"><title>2649835918280</title>\n",
       "<polygon fill=\"green\" points=\"669,-370 480,-370 480,-334 669,-334 669,-370\" stroke=\"black\"/>\n",
       "<text font-family=\"Times New Roman,serif\" font-size=\"14.00\" text-anchor=\"middle\" x=\"574.5\" y=\"-348.3\">val=2 TensorType(int8, scalar)</text>\n",
       "</g>\n",
       "<!-- 2649835918280&#45;&gt;2649837570032 -->\n",
       "<g class=\"edge\" id=\"edge2\"><title>2649835918280-&gt;2649837570032</title>\n",
       "<path d=\"M554.466,-333.799C539.608,-321.042 519.182,-303.504 502.826,-289.462\" fill=\"none\" stroke=\"black\"/>\n",
       "<polygon fill=\"black\" points=\"505.034,-286.744 495.166,-282.885 500.474,-292.055 505.034,-286.744\" stroke=\"black\"/>\n",
       "<text font-family=\"Times New Roman,serif\" font-size=\"14.00\" text-anchor=\"middle\" x=\"534\" y=\"-304.8\">1</text>\n",
       "</g>\n",
       "<!-- 2649837602072 -->\n",
       "<g class=\"node\" id=\"node6\"><title>2649837602072</title>\n",
       "<ellipse cx=\"156.5\" cy=\"-91\" fill=\"#ffaabb\" rx=\"109.381\" ry=\"18\" stroke=\"black\"/>\n",
       "<text font-family=\"Times New Roman,serif\" font-size=\"14.00\" text-anchor=\"middle\" x=\"156.5\" y=\"-87.3\">Elemwise{add,no_inplace}</text>\n",
       "</g>\n",
       "<!-- 2649837569976&#45;&gt;2649837602072 -->\n",
       "<g class=\"edge\" id=\"edge5\"><title>2649837569976-&gt;2649837602072</title>\n",
       "<path d=\"M284.843,-160.611C259.547,-147.088 223.48,-127.807 196.018,-113.126\" fill=\"none\" stroke=\"black\"/>\n",
       "<polygon fill=\"black\" points=\"197.532,-109.966 187.063,-108.339 194.232,-116.14 197.532,-109.966\" stroke=\"black\"/>\n",
       "<text font-family=\"Times New Roman,serif\" font-size=\"14.00\" text-anchor=\"middle\" x=\"329\" y=\"-130.8\">0 TensorType(float64, scalar)</text>\n",
       "</g>\n",
       "<!-- 2649837545568 -->\n",
       "<g class=\"node\" id=\"node5\"><title>2649837545568</title>\n",
       "<polygon fill=\"green\" points=\"346,-283 157,-283 157,-247 346,-247 346,-283\" stroke=\"black\"/>\n",
       "<text font-family=\"Times New Roman,serif\" font-size=\"14.00\" text-anchor=\"middle\" x=\"251.5\" y=\"-261.3\">val=3 TensorType(int8, scalar)</text>\n",
       "</g>\n",
       "<!-- 2649837545568&#45;&gt;2649837569976 -->\n",
       "<g class=\"edge\" id=\"edge3\"><title>2649837545568-&gt;2649837569976</title>\n",
       "<path d=\"M264.451,-246.799C273.707,-234.506 286.306,-217.774 296.671,-204.007\" fill=\"none\" stroke=\"black\"/>\n",
       "<polygon fill=\"black\" points=\"299.567,-205.979 302.786,-195.885 293.975,-201.769 299.567,-205.979\" stroke=\"black\"/>\n",
       "<text font-family=\"Times New Roman,serif\" font-size=\"14.00\" text-anchor=\"middle\" x=\"290\" y=\"-217.8\">0</text>\n",
       "</g>\n",
       "<!-- 2649837601512 -->\n",
       "<g class=\"node\" id=\"node8\"><title>2649837601512</title>\n",
       "<polygon fill=\"blue\" points=\"243,-36 70,-36 70,-0 243,-0 243,-36\" stroke=\"black\"/>\n",
       "<text font-family=\"Times New Roman,serif\" font-size=\"14.00\" text-anchor=\"middle\" x=\"156.5\" y=\"-14.3\">TensorType(float64, scalar)</text>\n",
       "</g>\n",
       "<!-- 2649837602072&#45;&gt;2649837601512 -->\n",
       "<g class=\"edge\" id=\"edge7\"><title>2649837602072-&gt;2649837601512</title>\n",
       "<path d=\"M156.5,-72.8129C156.5,-64.7895 156.5,-55.0475 156.5,-46.0691\" fill=\"none\" stroke=\"black\"/>\n",
       "<polygon fill=\"black\" points=\"160,-46.0288 156.5,-36.0288 153,-46.0289 160,-46.0288\" stroke=\"black\"/>\n",
       "</g>\n",
       "<!-- 2649837544896 -->\n",
       "<g class=\"node\" id=\"node7\"><title>2649837544896</title>\n",
       "<polygon fill=\"green\" points=\"189,-196 0,-196 0,-160 189,-160 189,-196\" stroke=\"black\"/>\n",
       "<text font-family=\"Times New Roman,serif\" font-size=\"14.00\" text-anchor=\"middle\" x=\"94.5\" y=\"-174.3\">val=1 TensorType(int8, scalar)</text>\n",
       "</g>\n",
       "<!-- 2649837544896&#45;&gt;2649837602072 -->\n",
       "<g class=\"edge\" id=\"edge6\"><title>2649837544896-&gt;2649837602072</title>\n",
       "<path d=\"M107.047,-159.799C116.013,-147.506 128.218,-130.774 138.259,-117.007\" fill=\"none\" stroke=\"black\"/>\n",
       "<polygon fill=\"black\" points=\"141.118,-119.027 144.184,-108.885 135.463,-114.902 141.118,-119.027\" stroke=\"black\"/>\n",
       "<text font-family=\"Times New Roman,serif\" font-size=\"14.00\" text-anchor=\"middle\" x=\"133\" y=\"-130.8\">1</text>\n",
       "</g>\n",
       "</g>\n",
       "</svg>"
      ],
      "text/plain": [
       "<IPython.core.display.SVG object>"
      ]
     },
     "execution_count": 9,
     "metadata": {},
     "output_type": "execute_result"
    }
   ],
   "source": [
    "import pydot, theano\n",
    "ax = theano.tensor.scalar()\n",
    "print(ax)\n",
    "theano.pprint(ax)\n",
    "theano.printing.debugprint(ax)\n",
    "from IPython.display import SVG\n",
    "SVG(theano.printing.pydotprint(ax, return_image=True, format='svg'))\n",
    "\n",
    "ay = 3*(ax**2) + 1\n",
    "ay.eval({ax : 1})\n",
    "theano.pprint(ay)\n",
    "theano.printing.debugprint(ay)\n",
    "SVG(theano.printing.pydotprint(ay, return_image=True, format='svg'))\n"
   ]
  },
  {
   "cell_type": "code",
   "execution_count": null,
   "metadata": {},
   "outputs": [],
   "source": [
    "from sklearn.model_selection import train_test_split\n",
    "df = df.sample(frac=1).reset_index(drop=True)\n",
    "X_train, X_test, y_train, y_test = train_test_split(df['x6'], df['x1'], test_size=0.1)\n",
    "X_train = np.reshape(X_train, (-1, 1))\n",
    "y_train = np.reshape(y_train, (-1, 1))\n",
    "X_test = np.reshape(X_test, (-1,1))\n",
    "y_test = np.reshape(y_test, (-1, 1)) \n",
    "\n",
    "X_train, y_train, X_test, y_test"
   ]
  },
  {
   "cell_type": "code",
   "execution_count": null,
   "metadata": {
    "scrolled": true
   },
   "outputs": [],
   "source": [
    "fig, ax = plt.subplots(9, 5, figsize=(12, 20), sharey=True)\n",
    "for i in range(0, 42):\n",
    "    sns.distplot(df.loc[df['x6']==i+1]['x1'], ax=ax[i//5, i%5])\n"
   ]
  },
  {
   "cell_type": "code",
   "execution_count": null,
   "metadata": {},
   "outputs": [],
   "source": [
    "rf_reg = RandomForestRegressor(max_depth=10, n_estimators=20)\n",
    "rf_reg.fit(X_train, y_train)\n",
    "y_ = np.round(rf_reg.predict(X_test))\n",
    "y_ = np.reshape(y_, (-1, 1))\n",
    "y_.shape, X_test.shape, y_test.shape, X_train.shape, y_train.shape, \n"
   ]
  },
  {
   "cell_type": "code",
   "execution_count": null,
   "metadata": {},
   "outputs": [],
   "source": [
    "#Within an epsilon distance\n",
    "epsilon = 1\n",
    "sum(np.sum((abs(y_ - y_test) <= epsilon), axis=1)) * 100./y_.shape[0]"
   ]
  },
  {
   "cell_type": "code",
   "execution_count": null,
   "metadata": {},
   "outputs": [],
   "source": [
    "X_train.max(), X_train.min(), y_train.max(), y_train.min()"
   ]
  },
  {
   "cell_type": "markdown",
   "metadata": {},
   "source": [
    "### Log transformed in and out\n",
    "Transform x6 and x1 by np.log"
   ]
  },
  {
   "cell_type": "code",
   "execution_count": null,
   "metadata": {},
   "outputs": [],
   "source": [
    "X_train, y_train, X_test, y_test = np.log(X_train), np.log(y_train), \\\n",
    "    np.log(X_test), np.log(y_test)\n",
    "    "
   ]
  },
  {
   "cell_type": "code",
   "execution_count": null,
   "metadata": {},
   "outputs": [],
   "source": [
    "sns.distplot(y_train)"
   ]
  },
  {
   "cell_type": "code",
   "execution_count": null,
   "metadata": {},
   "outputs": [],
   "source": [
    "y_train.min()\n",
    "#sns.distplot(np.log(y_train))"
   ]
  },
  {
   "cell_type": "code",
   "execution_count": null,
   "metadata": {},
   "outputs": [],
   "source": []
  },
  {
   "cell_type": "code",
   "execution_count": null,
   "metadata": {},
   "outputs": [],
   "source": [
    "\n",
    "rf_reg = RandomForestRegressor(max_depth=10, n_estimators=200)\n",
    "rf_reg.fit(X_train, y_train)\n",
    "y_ = rf_reg.predict(X_test)\n",
    "y_ = np.reshape(y_, (-1, 1))\n",
    "#y_.shape, X_test.shape, y_test.shape, X_train.shape, y_train.shape, \n"
   ]
  },
  {
   "cell_type": "code",
   "execution_count": null,
   "metadata": {},
   "outputs": [],
   "source": [
    "import math\n",
    "#Within an epsilon distance\n",
    "epsilon = math.e\n",
    "sum(np.sum((abs(y_ - y_test) <= epsilon), axis=1)) * 100./y_.shape[0]"
   ]
  },
  {
   "cell_type": "code",
   "execution_count": null,
   "metadata": {},
   "outputs": [],
   "source": [
    "sns.distplot(np.exp(y_), color='b')\n",
    "sns.distplot(np.exp(y_test))"
   ]
  },
  {
   "cell_type": "code",
   "execution_count": null,
   "metadata": {},
   "outputs": [],
   "source": [
    "#np.sqrt(np.sum(np.sum((y_ - y_test)**2, axis=1)))\n",
    "#np.sum((y_ - y_test)**2, axis=1)\n",
    "np.mean(y_ - y_test), np.var(y_ - y_test), np.max(y_ - y_test), np.min(y_ - y_test)"
   ]
  },
  {
   "cell_type": "markdown",
   "metadata": {},
   "source": [
    "### Prepare the data\n",
    "Training data consists of X1, X2 pairs\n",
    "Also split the data into train and test"
   ]
  },
  {
   "cell_type": "code",
   "execution_count": null,
   "metadata": {},
   "outputs": [],
   "source": [
    "from sklearn.cross_validation import train_test_split\n",
    "def prepare_data(df):\n",
    "    X_data = df[['x1', 'x2']]\n",
    "    \n",
    "    #Shuffle\n",
    "    X_data = X_data.sample(frac=1).reset_index(drop=True)\n",
    "\n",
    "    #split - train, test\n",
    "    X_train, X_test, y_train, y_test = train_test_split(X_data['x1'], X_data['x2'], test_size=0.01)\n",
    "    X_train = np.reshape(X_train, (-1, 1))\n",
    "    X_test = np.reshape(X_test, (-1, 1))\n",
    "    y_train = np.reshape(y_train, (-1, 1))\n",
    "    y_test = np.reshape(y_test, (-1, 1))\n",
    "    return X_train, X_test, y_train, y_test\n",
    "\n",
    "X_train, X_test, y_train, y_test = prepare_data(df_train)"
   ]
  },
  {
   "cell_type": "code",
   "execution_count": null,
   "metadata": {},
   "outputs": [],
   "source": []
  },
  {
   "cell_type": "markdown",
   "metadata": {},
   "source": [
    "### Plot the training data (X2)"
   ]
  },
  {
   "cell_type": "code",
   "execution_count": null,
   "metadata": {},
   "outputs": [],
   "source": [
    "fig, ax = plt.subplots()\n",
    "ax.scatter(X_train, y_train, color='g', alpha=0.3)\n",
    "plt.xlabel('X1'); plt.ylabel('X2')"
   ]
  },
  {
   "cell_type": "markdown",
   "metadata": {},
   "source": [
    "_This makes sense of course, since X2 >= X1_"
   ]
  },
  {
   "cell_type": "code",
   "execution_count": null,
   "metadata": {},
   "outputs": [],
   "source": [
    "sns.distplot(y_train)\n",
    "plt.legend()\n"
   ]
  },
  {
   "cell_type": "code",
   "execution_count": null,
   "metadata": {},
   "outputs": [],
   "source": [
    "xrange = np.arange(X_train.min(), X_train.max() + 1)\n",
    "fig, ax = plt.subplots()\n",
    "ax.plot(X_train[arange])"
   ]
  },
  {
   "cell_type": "markdown",
   "metadata": {},
   "source": [
    "### Define a model for X2\n",
    "Assuming BetaBinomial, discrete distribution with support over positive integers\n",
    "The model for X2 will be a Bayesian Neural Net conditioned on the value of X1\n",
    "The prior for the X2's support \\{0..n\\}  and it's alpha and beta are dependent on X1"
   ]
  },
  {
   "cell_type": "code",
   "execution_count": null,
   "metadata": {},
   "outputs": [],
   "source": [
    "ntrain = len(X_train)\n",
    "\n",
    "#Construct the NN\n",
    "def construct_nn(nn_in, nn_out):\n",
    "    n_hidden = 5\n",
    "    init_1 = np.random.randn(1, n_hidden).astype(theano.config.floatX)\n",
    "    init_2 = np.random.randn(n_hidden, n_hidden).astype(theano.config.floatX)\n",
    "    init_3 = np.random.randn(n_hidden, 1).astype(theano.config.floatX)\n",
    "    \n",
    "    with pm.Model() as bnn:\n",
    "        a = pm.Uniform('a', lower=0.4, upper=5.)\n",
    "        b = pm.Uniform('b', lower=2., upper=8.)\n",
    "        c = pm.Uniform('c', lower=1., upper=60.)\n",
    "        \n",
    "        weights_1 = pm.Normal('w_1', mu=0, sd=1, shape=(1, n_hidden), testval=init_1)\n",
    "        weights_2 = pm.Normal('w_2', mu=0, sd=1, shape=(n_hidden, n_hidden), testval=init_2)\n",
    "        weights_3 = pm.Normal('w_3', mu=0, sd=1, shape=(n_hidden, 1), testval=init_3)\n",
    "        \n",
    "        #Activations\n",
    "        act_1 = pm.math.tanh(pm.math.dot(nn_in, weights_1))\n",
    "        act_2 = pm.math.tanh(pm.math.dot(act_1, weights_2))\n",
    "        act_3 = pm.math.sigmoid(pm.math.dot(act_2, weights_3))\n",
    "        \n",
    "        print(\"{}, {}, {},\".format(act_3.tag.test_value.shape, act_3.shape, type(act_3)))\n",
    "        print(\"{}\".format(act_3.tag.test_value[:,0].mean()))\n",
    "#         print(\"{}\".format(act_3.tag.test_value[:,1].mean()))\n",
    "#         print(\"{}\".format(act_3.tag.test_value[:,2].mean()))\n",
    "#         a = pm.Deterministic('a', act_3.tag.test_value[:,0].mean())\n",
    "#         b = pm.Deterministic('b', act_3.tag.test_value[:,1].mean())\n",
    "#         c = pm.Deterministic('c', act_3.tag.test_value[:,2].mean())\n",
    "        out = pm.BetaBinomial('x2pred', \n",
    "                              alpha=a, \n",
    "                              beta=b,\n",
    "                              n=tt.round(c),\n",
    "                              observed=nn_out, \n",
    "                              total_size=ntrain)\n",
    "        \n",
    "    return bnn"
   ]
  },
  {
   "cell_type": "markdown",
   "metadata": {},
   "source": [
    "### Fit the model to data (Inference)\n",
    "Uses ADVI to compute the posterior distribution of parameters"
   ]
  },
  {
   "cell_type": "code",
   "execution_count": null,
   "metadata": {},
   "outputs": [],
   "source": [
    "nn_in = theano.shared(X_train)\n",
    "nn_out = theano.shared(y_train)\n",
    "bnn = construct_nn(nn_in, nn_out)\n",
    "with bnn:\n",
    "    # inference = pm.ADVI()\n",
    "    approx = pm.sample(1000)"
   ]
  },
  {
   "cell_type": "code",
   "execution_count": null,
   "metadata": {},
   "outputs": [],
   "source": [
    "with bnn:\n",
    "    pm.plot_posterior(approx)\n"
   ]
  },
  {
   "cell_type": "code",
   "execution_count": null,
   "metadata": {},
   "outputs": [],
   "source": []
  },
  {
   "cell_type": "code",
   "execution_count": null,
   "metadata": {},
   "outputs": [],
   "source": []
  },
  {
   "cell_type": "markdown",
   "metadata": {},
   "source": [
    "# Miscellaneous\n",
    "## A Zero Truncated Poisson\n",
    "__Custom Probability Distribution in PyMC3__"
   ]
  },
  {
   "cell_type": "code",
   "execution_count": null,
   "metadata": {},
   "outputs": [],
   "source": [
    "import theano.tensor as tt\n",
    "from theano import function\n",
    "from theano import printing\n",
    "import pymc3 as pm\n",
    "\n",
    "class ZeroTruncatedPoisson(pm.Discrete):\n",
    "    '''\n",
    "    Similar to a Poisson distribution, but the support is over positive integes \n",
    "    and so, excludes zero. An example, number of items in your grocery shopping cart\n",
    "    at checkout\n",
    "    '''\n",
    "    def __init__(self, mu, *args, **kwargs):\n",
    "        super(ZeroTruncatedPoisson, self).__init__(*args, **kwargs)\n",
    "        self.mu = tt.as_tensor_variable(mu)\n",
    "    \n",
    "    def logp(self, value):\n",
    "        '''\n",
    "        compute total_log_probability\n",
    "        '''\n",
    "        return tt.sum(value * tt.log(self.mu) - tt.log(tt.exp(self.mu) -1) - tt.gammaln(value))\n",
    "    \n",
    "    def random(self, point=None, size=None):\n",
    "        '''\n",
    "        Generates a random sample from Zero Truncated Poisson\n",
    "        '''\n",
    "        k = 1\n",
    "        mu = self.mu.tag.test_value\n",
    "        t = tt.exp(-self.mu)/(1 - tt.exp(-self.mu))/(1. * self.mu)\n",
    "        tn = t.tag.test_value\n",
    "        s = tn\n",
    "        u = np.random.uniform()\n",
    "        while s < u:\n",
    "            k = k + 1\n",
    "            tn = tn * mu / k\n",
    "            s = s + tn\n",
    "            u = np.random.uniform()\n",
    "        return k"
   ]
  },
  {
   "cell_type": "code",
   "execution_count": null,
   "metadata": {},
   "outputs": [],
   "source": [
    "# If using a ZeroTruncatedPoisson\n",
    "# obs = df_train['x1']\n",
    "# with pm.Model() as zmodel:\n",
    "#     mu = pm.HalfNormal('mu', sd=10.)\n",
    "#     zp_poisson = ZeroTruncatedPoisson('zp', mu=mu, observed=obs)\n",
    "#     ztrace = pm.sample(1000)\n",
    "#     pm.plot_posterior(ztrace)\n"
   ]
  },
  {
   "cell_type": "code",
   "execution_count": null,
   "metadata": {},
   "outputs": [],
   "source": [
    "import numpy as np\n",
    "import theano.tensor as tt\n",
    "from theano import function\n",
    "#tt.config.compute_test_value = \n",
    "x = tt.dscalar('x')\n",
    "y = tt.dscalar('y')\n",
    "z = x + y\n",
    "tt.pprint(z)\n",
    "add = function([x, y], z)\n",
    "n1 = add(402., 1)\n",
    "type(n1)\n",
    "#n1\n",
    "with pm.Model() as mmodel:\n",
    "    a1 = \n",
    "    w1 = pm.Normal('w1', mu=0., sd=1., shape=(1, 2))\n",
    "    a2 = pm.math.dot(a1, w1)\n"
   ]
  },
  {
   "cell_type": "code",
   "execution_count": null,
   "metadata": {},
   "outputs": [],
   "source": [
    "k = np.array([1,2,1,1,1,1,1,1,1,1,1,1,1,1,1,1,1,1,1,1,1,1,1,1,1,1,1,1,1,1,48,1])\n",
    "import theano.tensor as tt\n",
    "def ztp_logp(k):\n",
    "    return tt.sum(k * tt.log(lam) - tt.log(tt.exp(lam) - 1) - tt.gammaln(k))\n",
    "\n",
    "ztp_logp(k)\n"
   ]
  },
  {
   "cell_type": "code",
   "execution_count": null,
   "metadata": {},
   "outputs": [],
   "source": [
    "vm1 = np.random.randn(1, 5).astype(theano.config.floatX)\n",
    "type(vm1)\n",
    "#vm1.shape\n",
    "vm2= halfnorm.rvs(size=(1,5)).astype(theano.config.floatX)\n",
    "type(vm2)\n",
    "vm2.shape\n",
    "X_train[0].shape\n",
    "nn_in.shape\n"
   ]
  },
  {
   "cell_type": "markdown",
   "metadata": {},
   "source": [
    "### Define the neural network"
   ]
  },
  {
   "cell_type": "markdown",
   "metadata": {},
   "source": [
    "### Plot the posterior parameter distribution from 5000 samples"
   ]
  },
  {
   "cell_type": "code",
   "execution_count": null,
   "metadata": {},
   "outputs": [],
   "source": [
    "with bnn:\n",
    "    trace = approx.sample(draws=5000)\n",
    "    pm.traceplot(trace)"
   ]
  },
  {
   "cell_type": "markdown",
   "metadata": {},
   "source": [
    "### Plot the learnt boundary against training data"
   ]
  },
  {
   "cell_type": "code",
   "execution_count": null,
   "metadata": {},
   "outputs": [],
   "source": [
    "with bnn:\n",
    "    rpc = pm.sample_ppc(trace, 500)\n",
    "    rpred = rpc['Category'].mean(axis=0)\n",
    "    #rproba = rpc['Category'].std(axis=0)\n",
    "    fig, ax = plt.subplots()\n",
    "    ax.scatter(X_train[rpred > 0.5], rpred[rpred > 0.5], color='b', alpha=0.01)\n",
    "    ax.scatter(X_train[rpred <= 0.5], rpred[rpred <= 0.5], color='r', alpha=0.01)\n",
    "    ax.scatter(X_train[y_train], y_train[y_train], color='g', alpha=0.01)\n",
    "    ax.scatter(X_train[~y_train], y_train[~y_train], color='k', alpha=0.01)"
   ]
  },
  {
   "cell_type": "markdown",
   "metadata": {},
   "source": [
    "#### Plot the Evidence Lower Bound (ELBO) maximization history"
   ]
  },
  {
   "cell_type": "code",
   "execution_count": null,
   "metadata": {},
   "outputs": [],
   "source": [
    "with bnn:\n",
    "    plt.plot(-inference.hist, label='ADVI', color='b', alpha=0.4)\n",
    "    plt.xlabel('Iteration')\n",
    "    plt.ylabel('ELBO')"
   ]
  },
  {
   "cell_type": "markdown",
   "metadata": {},
   "source": [
    "**__What is the functional form of the neural net?__**\n",
    "<p>\n",
    "The neural net computes the probability parameter of a Bernoulli distribution based on a series of non-linearities and affine transformations of the input"
   ]
  },
  {
   "cell_type": "code",
   "execution_count": null,
   "metadata": {},
   "outputs": [],
   "source": [
    "bnn.Category.distribution"
   ]
  },
  {
   "cell_type": "markdown",
   "metadata": {},
   "source": [
    "### Now time to predict (Posterior Predictive Check) "
   ]
  },
  {
   "cell_type": "code",
   "execution_count": null,
   "metadata": {},
   "outputs": [],
   "source": [
    "nn_in.set_value(X_test)\n",
    "nn_out.set_value(y_test)\n",
    "with bnn:\n",
    "    ppc = pm.sample_ppc(trace, 500)\n",
    "    pred = ppc['Category'].mean(axis=0)\n",
    "    proba = ppc['Category'].std(axis=0)"
   ]
  },
  {
   "cell_type": "markdown",
   "metadata": {},
   "source": [
    "### Plot the predictions"
   ]
  },
  {
   "cell_type": "code",
   "execution_count": null,
   "metadata": {},
   "outputs": [],
   "source": [
    "fig, ax = plt.subplots()\n",
    "ax.scatter(X_test[pred > 0.5], pred[pred > 0.5])\n",
    "ax.scatter(X_test[pred <= 0.5], pred[pred <= 0.5], color='r', alpha=0.2)\n",
    "ax.scatter(X_test[y_test], y_test[y_test], color='c', alpha=0.1)\n",
    "ax.scatter(X_test[~y_test], y_test[~y_test], color='c', alpha=0.1)\n",
    "\n",
    "print('Accuracy: {}'.format( ( y_test == (pred > 0.5) ).mean() * 100 ))"
   ]
  },
  {
   "cell_type": "markdown",
   "metadata": {},
   "source": [
    "### Confusion Matrix"
   ]
  },
  {
   "cell_type": "code",
   "execution_count": null,
   "metadata": {},
   "outputs": [],
   "source": [
    "from sklearn.metrics import confusion_matrix\n",
    "cm = [ 1 if x > 0.5 else 0 for x in pred ]\n",
    "cnf = confusion_matrix(cm, y_test)\n",
    "sns.heatmap(cnf, annot=True, fmt='d', cmap='PiYG')"
   ]
  },
  {
   "cell_type": "code",
   "execution_count": null,
   "metadata": {},
   "outputs": [],
   "source": [
    "cnf"
   ]
  },
  {
   "cell_type": "markdown",
   "metadata": {},
   "source": [
    "### Now the uncertainty in prediction"
   ]
  },
  {
   "cell_type": "code",
   "execution_count": null,
   "metadata": {},
   "outputs": [],
   "source": [
    "fig, ax = plt.subplots(figsize=(10, 5))\n",
    "ax.errorbar(X_test[pred > 0.5], pred[pred > 0.5], yerr = proba[pred > 0.5], fmt='o', ecolor='g', capthick=2, alpha=0.1)\n",
    "ax.errorbar(X_test[pred <= 0.5], pred[pred <= 0.5], yerr = proba[pred <= 0.5], \n",
    "            fmt='o', ecolor='r', color='y', capthick=2, alpha=0.1)"
   ]
  },
  {
   "cell_type": "markdown",
   "metadata": {},
   "source": [
    "## Comparison to a Gaussian Process classifier"
   ]
  },
  {
   "cell_type": "code",
   "execution_count": null,
   "metadata": {},
   "outputs": [],
   "source": [
    "%%time\n",
    "from sklearn.gaussian_process import GaussianProcessClassifier\n",
    "from sklearn.gaussian_process.kernels import RBF\n",
    "\n",
    "gp_clf = GaussianProcessClassifier(1.0 * RBF(1.0))\n",
    "nsize=1000\n",
    "gp_clf.fit(X_train[:nsize,:], y_train[:nsize,:])\n",
    "#clf.fit(X_train, y_train)"
   ]
  },
  {
   "cell_type": "markdown",
   "metadata": {},
   "source": [
    "**__Phew.... that took for ever. Especially in comparison to BNN__**"
   ]
  },
  {
   "cell_type": "code",
   "execution_count": null,
   "metadata": {},
   "outputs": [],
   "source": [
    "%%time\n",
    "print gp_clf.score(X_test, y_test)\n",
    "xx = np.arange(1,70)\n",
    "pp = gp_clf.predict_proba(xx.reshape(-1,1))\n",
    "fig, ax = plt.subplots()\n",
    "ax.scatter(xx, pp[:,1], color='r')"
   ]
  },
  {
   "cell_type": "markdown",
   "metadata": {},
   "source": [
    "## Compare to a random forest classifier"
   ]
  },
  {
   "cell_type": "code",
   "execution_count": null,
   "metadata": {},
   "outputs": [],
   "source": [
    "%%time\n",
    "from sklearn.ensemble import RandomForestClassifier\n",
    "\n",
    "rf_clf = RandomForestClassifier(max_depth=5, n_estimators=10, max_features=1)\n",
    "rf_clf.fit(X_train, y_train)"
   ]
  },
  {
   "cell_type": "code",
   "execution_count": null,
   "metadata": {},
   "outputs": [],
   "source": [
    "%%time\n",
    "print (rf_clf.score(X_test, y_test))\n",
    "xx = np.arange(1,70)\n",
    "pp = rf_clf.predict_proba(xx.reshape(-1,1))\n",
    "fig, ax = plt.subplots()\n",
    "ax.scatter(xx, pp[:,1], color='r')"
   ]
  },
  {
   "cell_type": "markdown",
   "metadata": {},
   "source": [
    "## Compare to AdaBoosted Decision Trees"
   ]
  },
  {
   "cell_type": "code",
   "execution_count": null,
   "metadata": {},
   "outputs": [],
   "source": [
    "%%time\n",
    "from sklearn.ensemble import AdaBoostClassifier\n",
    "ad_clf = AdaBoostClassifier()\n",
    "ad_clf.fit(X_train, y_train)"
   ]
  },
  {
   "cell_type": "code",
   "execution_count": null,
   "metadata": {},
   "outputs": [],
   "source": [
    "%%time\n",
    "print (ad_clf.score(X_test, y_test))\n",
    "xx = np.arange(1, 70)\n",
    "pp = ad_clf.predict_proba(xx.reshape(-1,1))\n",
    "fig, ax = plt.subplots()\n",
    "ax.scatter(xx, pp[:,1], color='r')"
   ]
  },
  {
   "cell_type": "markdown",
   "metadata": {},
   "source": [
    "## Miscellaneous"
   ]
  },
  {
   "cell_type": "code",
   "execution_count": null,
   "metadata": {},
   "outputs": [],
   "source": [
    "with pm.Model():\n",
    "    bs = pm.BetaBinomial('betasample', alpha=3., beta=4., n=50)\n",
    "    bstrace = pm.sample(10000)\n",
    "    pm.plot_posterior(bstrace)"
   ]
  },
  {
   "cell_type": "code",
   "execution_count": null,
   "metadata": {},
   "outputs": [],
   "source": [
    "sns.distplot(df_train['x6'])"
   ]
  }
 ],
 "metadata": {
  "kernelspec": {
   "display_name": "Python 3",
   "language": "python",
   "name": "python3"
  },
  "language_info": {
   "codemirror_mode": {
    "name": "ipython",
    "version": 3
   },
   "file_extension": ".py",
   "mimetype": "text/x-python",
   "name": "python",
   "nbconvert_exporter": "python",
   "pygments_lexer": "ipython3",
   "version": "3.5.4"
  }
 },
 "nbformat": 4,
 "nbformat_minor": 1
}
